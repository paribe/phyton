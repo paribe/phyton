{
 "cells": [
  {
   "cell_type": "markdown",
   "metadata": {},
   "source": [
    "# Análise dos Dados das Escolas do PRONATEC - MEC\n",
    "\n",
    "Com base nos dados disponibilizados pelo MEC no Portal de Dados Abertos do Governo Federal, analisamos as informações sobre as unidades do PRONATEC em todo o Brasil\n",
    "\n",
    "Ir no site Dados Abertos, no campo de busca digitar Pronatec, escolher Dados das Escolas\n",
    "\n",
    "Arquivo: PDA_UNIDADES_RF_EPCT_CSV.csv"
   ]
  },
  {
   "cell_type": "markdown",
   "metadata": {},
   "source": [
    "## Biblioteca Pandas\n",
    "Pandas é uma biblioteca de alto desempenho que fornece suporte para estruturas de dados e ferramentas de análise de dados.\n",
    "\n",
    "A biblioteca é otimizada para executar tarefas de Ciência de Dados de forma rápida e eficiente. O princípio básico do Pandas\n",
    "é fornecer análise de dados e suporte a modelagem para Python de forma simplificada.\n",
    "\n",
    "A principal estrutura da biblioteca Pandas é o DataFrame, que possui uma grande quantidade de métodos para a\n",
    "manipulação de dados."
   ]
  },
  {
   "cell_type": "code",
   "execution_count": 1,
   "metadata": {},
   "outputs": [
    {
     "data": {
      "text/html": [
       "<div>\n",
       "<style scoped>\n",
       "    .dataframe tbody tr th:only-of-type {\n",
       "        vertical-align: middle;\n",
       "    }\n",
       "\n",
       "    .dataframe tbody tr th {\n",
       "        vertical-align: top;\n",
       "    }\n",
       "\n",
       "    .dataframe thead th {\n",
       "        text-align: right;\n",
       "    }\n",
       "</style>\n",
       "<table border=\"1\" class=\"dataframe\">\n",
       "  <thead>\n",
       "    <tr style=\"text-align: right;\">\n",
       "      <th></th>\n",
       "      <th>CODIGO_UNIDADE</th>\n",
       "      <th>NOME_UNIDADE</th>\n",
       "      <th>DT_AUTORIZA_FUNCIONA_UNID</th>\n",
       "      <th>NOME_REGIAO_UNIDADE</th>\n",
       "      <th>SIGLA_UF_UNIDADE</th>\n",
       "      <th>NOME_MUNICIPIO_UNIDADE</th>\n",
       "      <th>NOME_MESORREGIAO_UNIDADE</th>\n",
       "      <th>NOME_MICRORREGIAO_UNIDADE</th>\n",
       "    </tr>\n",
       "  </thead>\n",
       "  <tbody>\n",
       "    <tr>\n",
       "      <th>0</th>\n",
       "      <td>2879</td>\n",
       "      <td>INSTITUTO FEDERAL DA BAHIA - CAMPUS EUNÁPOLIS</td>\n",
       "      <td>07-01-2009</td>\n",
       "      <td>Nordeste</td>\n",
       "      <td>BA</td>\n",
       "      <td>Eunápolis</td>\n",
       "      <td>Sul Baiano</td>\n",
       "      <td>Porto Seguro</td>\n",
       "    </tr>\n",
       "    <tr>\n",
       "      <th>1</th>\n",
       "      <td>2948</td>\n",
       "      <td>INSTITUTO FEDERAL BAIANO - CAMPUS ITAPETINGA</td>\n",
       "      <td>07-01-2009</td>\n",
       "      <td>Nordeste</td>\n",
       "      <td>BA</td>\n",
       "      <td>Itapetinga</td>\n",
       "      <td>Centro Sul Baiano</td>\n",
       "      <td>Itapetinga</td>\n",
       "    </tr>\n",
       "    <tr>\n",
       "      <th>2</th>\n",
       "      <td>14328</td>\n",
       "      <td>INSTITUTO FEDERAL DO ACRE - CAMPUS SENA MADUREIRA</td>\n",
       "      <td>30-12-2008</td>\n",
       "      <td>Norte</td>\n",
       "      <td>AC</td>\n",
       "      <td>Sena Madureira</td>\n",
       "      <td>Vale do Acre</td>\n",
       "      <td>Sena Madureira</td>\n",
       "    </tr>\n",
       "    <tr>\n",
       "      <th>3</th>\n",
       "      <td>14547</td>\n",
       "      <td>INSTITUTO FEDERAL DE ALAGOAS - CAMPUS ARAPIRACA</td>\n",
       "      <td>06-07-2010</td>\n",
       "      <td>Nordeste</td>\n",
       "      <td>AL</td>\n",
       "      <td>Arapiraca</td>\n",
       "      <td>Agreste Alagoano</td>\n",
       "      <td>Arapiraca</td>\n",
       "    </tr>\n",
       "    <tr>\n",
       "      <th>4</th>\n",
       "      <td>32010</td>\n",
       "      <td>INSTITUTO FEDERAL DE ALAGOAS - CAMPUS CORURIPE</td>\n",
       "      <td>22-01-2014</td>\n",
       "      <td>Nordeste</td>\n",
       "      <td>AL</td>\n",
       "      <td>Coruripe</td>\n",
       "      <td>Leste Alagoano</td>\n",
       "      <td>São Miguel dos Campos</td>\n",
       "    </tr>\n",
       "  </tbody>\n",
       "</table>\n",
       "</div>"
      ],
      "text/plain": [
       "   CODIGO_UNIDADE                                       NOME_UNIDADE  \\\n",
       "0            2879      INSTITUTO FEDERAL DA BAHIA - CAMPUS EUNÁPOLIS   \n",
       "1            2948       INSTITUTO FEDERAL BAIANO - CAMPUS ITAPETINGA   \n",
       "2           14328  INSTITUTO FEDERAL DO ACRE - CAMPUS SENA MADUREIRA   \n",
       "3           14547    INSTITUTO FEDERAL DE ALAGOAS - CAMPUS ARAPIRACA   \n",
       "4           32010     INSTITUTO FEDERAL DE ALAGOAS - CAMPUS CORURIPE   \n",
       "\n",
       "  DT_AUTORIZA_FUNCIONA_UNID NOME_REGIAO_UNIDADE SIGLA_UF_UNIDADE  \\\n",
       "0                07-01-2009            Nordeste               BA   \n",
       "1                07-01-2009            Nordeste               BA   \n",
       "2                30-12-2008               Norte               AC   \n",
       "3                06-07-2010            Nordeste               AL   \n",
       "4                22-01-2014            Nordeste               AL   \n",
       "\n",
       "  NOME_MUNICIPIO_UNIDADE NOME_MESORREGIAO_UNIDADE NOME_MICRORREGIAO_UNIDADE  \n",
       "0              Eunápolis               Sul Baiano              Porto Seguro  \n",
       "1             Itapetinga        Centro Sul Baiano                Itapetinga  \n",
       "2         Sena Madureira             Vale do Acre            Sena Madureira  \n",
       "3              Arapiraca         Agreste Alagoano                 Arapiraca  \n",
       "4               Coruripe           Leste Alagoano     São Miguel dos Campos  "
      ]
     },
     "execution_count": 1,
     "metadata": {},
     "output_type": "execute_result"
    }
   ],
   "source": [
    "# Para usar qualquer biblioteca em nosso código ela precisa ser, primeiro, importada\n",
    "\n",
    "# Importando a biblioteca\n",
    "# Por convenção, chamamos o pandas de pd\n",
    "import pandas as pd\n",
    "\n",
    "# Carregando o arquivo csv para um dataframe\n",
    "# Por padrão o separador é ',' mas pode ser ';', tbulação, espaços, etcs\n",
    "# Vamos informar o separador e a codificação (encoding) do arquivo\n",
    "# cp1252 é a codificação padrão para arquivos CSV que foram gerados a partir do Excel\n",
    "df = pd.read_csv('PDA_UNIDADES_RF_EPCT_CSV.csv', sep=';', encoding='cp1252')\n",
    "\n",
    "# Exibindo apenas as primeiras linhas\n",
    "df.head()"
   ]
  },
  {
   "cell_type": "code",
   "execution_count": 2,
   "metadata": {},
   "outputs": [
    {
     "data": {
      "text/html": [
       "<div>\n",
       "<style scoped>\n",
       "    .dataframe tbody tr th:only-of-type {\n",
       "        vertical-align: middle;\n",
       "    }\n",
       "\n",
       "    .dataframe tbody tr th {\n",
       "        vertical-align: top;\n",
       "    }\n",
       "\n",
       "    .dataframe thead th {\n",
       "        text-align: right;\n",
       "    }\n",
       "</style>\n",
       "<table border=\"1\" class=\"dataframe\">\n",
       "  <thead>\n",
       "    <tr style=\"text-align: right;\">\n",
       "      <th></th>\n",
       "      <th>CODIGO_UNIDADE</th>\n",
       "    </tr>\n",
       "  </thead>\n",
       "  <tbody>\n",
       "    <tr>\n",
       "      <th>count</th>\n",
       "      <td>618.000000</td>\n",
       "    </tr>\n",
       "    <tr>\n",
       "      <th>mean</th>\n",
       "      <td>16255.610032</td>\n",
       "    </tr>\n",
       "    <tr>\n",
       "      <th>std</th>\n",
       "      <td>12973.588737</td>\n",
       "    </tr>\n",
       "    <tr>\n",
       "      <th>min</th>\n",
       "      <td>354.000000</td>\n",
       "    </tr>\n",
       "    <tr>\n",
       "      <th>25%</th>\n",
       "      <td>2998.500000</td>\n",
       "    </tr>\n",
       "    <tr>\n",
       "      <th>50%</th>\n",
       "      <td>13840.500000</td>\n",
       "    </tr>\n",
       "    <tr>\n",
       "      <th>75%</th>\n",
       "      <td>30818.250000</td>\n",
       "    </tr>\n",
       "    <tr>\n",
       "      <th>max</th>\n",
       "      <td>44307.000000</td>\n",
       "    </tr>\n",
       "  </tbody>\n",
       "</table>\n",
       "</div>"
      ],
      "text/plain": [
       "       CODIGO_UNIDADE\n",
       "count      618.000000\n",
       "mean     16255.610032\n",
       "std      12973.588737\n",
       "min        354.000000\n",
       "25%       2998.500000\n",
       "50%      13840.500000\n",
       "75%      30818.250000\n",
       "max      44307.000000"
      ]
     },
     "execution_count": 2,
     "metadata": {},
     "output_type": "execute_result"
    }
   ],
   "source": [
    "# O pandas consegue mostrar um resumo quantitativo dos dados contidos no dataframe\n",
    "# Isso vale apenas para as colunas que contenham valores numéricos\n",
    "df.describe()"
   ]
  },
  {
   "cell_type": "code",
   "execution_count": 3,
   "metadata": {},
   "outputs": [
    {
     "data": {
      "text/plain": [
       "CODIGO_UNIDADE               618\n",
       "NOME_UNIDADE                 618\n",
       "DT_AUTORIZA_FUNCIONA_UNID    618\n",
       "NOME_REGIAO_UNIDADE          618\n",
       "SIGLA_UF_UNIDADE             618\n",
       "NOME_MUNICIPIO_UNIDADE       618\n",
       "NOME_MESORREGIAO_UNIDADE     618\n",
       "NOME_MICRORREGIAO_UNIDADE    618\n",
       "dtype: int64"
      ]
     },
     "execution_count": 3,
     "metadata": {},
     "output_type": "execute_result"
    }
   ],
   "source": [
    "# Mas, se formos apenas contar valores, nós temos métodos melhores\n",
    "df.count()"
   ]
  },
  {
   "cell_type": "code",
   "execution_count": 4,
   "metadata": {},
   "outputs": [
    {
     "data": {
      "text/plain": [
       "Nordeste        202\n",
       "Sudeste         163\n",
       "Sul             116\n",
       "Norte            70\n",
       "Centro-Oeste     67\n",
       "Name: NOME_REGIAO_UNIDADE, dtype: int64"
      ]
     },
     "execution_count": 4,
     "metadata": {},
     "output_type": "execute_result"
    }
   ],
   "source": [
    "# É possível obter informações de cada coluna separadamente\n",
    "# Vamos contar quantas linhas (escolas) existem em cada região do Brasil\n",
    "df['NOME_REGIAO_UNIDADE'].value_counts()"
   ]
  },
  {
   "cell_type": "code",
   "execution_count": 5,
   "metadata": {},
   "outputs": [
    {
     "data": {
      "text/plain": [
       "MG    67\n",
       "RS    45\n",
       "RJ    39\n",
       "SC    36\n",
       "SP    35\n",
       "PR    35\n",
       "BA    34\n",
       "MA    27\n",
       "CE    27\n",
       "GO    26\n",
       "PE    23\n",
       "PI    23\n",
       "RN    23\n",
       "ES    22\n",
       "PB    21\n",
       "PA    20\n",
       "MT    19\n",
       "AL    16\n",
       "AM    15\n",
       "TO    11\n",
       "DF    11\n",
       "MS    11\n",
       "SE     8\n",
       "RO     8\n",
       "RR     6\n",
       "AC     6\n",
       "AP     4\n",
       "Name: SIGLA_UF_UNIDADE, dtype: int64"
      ]
     },
     "execution_count": 5,
     "metadata": {},
     "output_type": "execute_result"
    }
   ],
   "source": [
    "# Vamos olhar agora por UF\n",
    "df['SIGLA_UF_UNIDADE'].value_counts()"
   ]
  },
  {
   "cell_type": "code",
   "execution_count": 6,
   "metadata": {},
   "outputs": [
    {
     "data": {
      "text/plain": [
       "<matplotlib.axes._subplots.AxesSubplot at 0x1a833b89128>"
      ]
     },
     "execution_count": 6,
     "metadata": {},
     "output_type": "execute_result"
    },
    {
     "data": {
      "image/png": "[encoded data removed]",
      "text/plain": [
       "<Figure size 432x288 with 1 Axes>"
      ]
     },
     "metadata": {},
     "output_type": "display_data"
    }
   ],
   "source": [
    "# Agora vamos mostrar os dados em um gráfico\n",
    "\n",
    "# Precisamos informar que queremos visualizar o gráfico dentro do\n",
    "# próprio notebook onde estamos trabalhando\n",
    "%matplotlib inline\n",
    "\n",
    "# Agora podemos pegar a mesma informação sobre escolas por UF\n",
    "# e plotar em um gráfico de barras\n",
    "df['SIGLA_UF_UNIDADE'].value_counts().plot.bar()"
   ]
  }
 ],
 "metadata": {
  "kernelspec": {
   "display_name": "Python 3",
   "language": "python",
   "name": "python3"
  },
  "language_info": {
   "codemirror_mode": {
    "name": "ipython",
    "version": 3
   },
   "file_extension": ".py",
   "mimetype": "text/x-python",
   "name": "python",
   "nbconvert_exporter": "python",
   "pygments_lexer": "ipython3",
   "version": "3.6.5"
  }
 },
 "nbformat": 4,
 "nbformat_minor": 2
}
