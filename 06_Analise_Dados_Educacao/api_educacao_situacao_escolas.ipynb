{
 "cells": [
  {
   "cell_type": "markdown",
   "metadata": {},
   "source": [
    "# Análise dos dados do Escola Inteligente\n",
    "\n",
    "O site Escola Inteligente compila os dados do INEP e libera em formato de API para consulta.\n",
    "\n",
    "Acesso: http://educacao.dadosabertosbr.com"
   ]
  },
  {
   "cell_type": "code",
   "execution_count": 1,
   "metadata": {},
   "outputs": [
    {
     "data": {
      "text/plain": [
       "'[968,[{\"anoCenso\":2013,\"cod\":41036026,\"nome\":\"BAIRRO DOS MENDES E R M EF\",\"codCidade\":4104402,\"cidade\":\"CANDIDO DE ABREU\",\"estado\":\"PR\",\"regiao\":\"Sul\",\"situacaoFuncionamento\":1,\"dependenciaAdministrativa\":3,\"idebAI\":0.0,\"idebAF\":0.0,\"enemMediaGeral\":0.0,\"dependenciaAdministrativaTxt\":\"Municipal\",\"situacaoFuncionamentoTxt\":\"Em atividade\"},{\"anoCenso\":2013,\"cod\":21237808,\"nome\":\"CEF CAJAZEIRAS\",\"codCidade\":2109809,\"cidade\":\"SANTA HELENA\",\"estado\":\"MA\",\"regiao\":\"Nordeste\",\"situacaoFuncionamento\":1,\"dependenciaAdministrativa\":3,\"idebAI\":0.0,\"idebAF\":0.0,\"enemMediaGeral\":0.0,\"dependenciaAdministrativaTxt\":\"Municipal\",\"situacaoFuncionamentoTxt\":\"Em atividade\"},{\"anoCenso\":2013,\"cod\":15008258,\"nome\":\"E M E F AGUA AZUL\",\"codCidade\":1504802,\"cidade\":\"MONTE ALEGRE\",\"estado\":\"PA\",\"regiao\":\"Norte\",\"situacaoFuncionamento\":1,\"dependenciaAdministrativa\":3,\"idebAI\":0.0,\"idebAF\":0.0,\"enemMediaGeral\":0.0,\"dependenciaAdministrativaTxt\":\"Municipal\",\"situacaoFuncionamentoTxt\":\"Em atividade\"},{\"anoCenso\":2013,\"cod\":15534340,\"nome\":\"E M E F AGUA BOA\",\"codCidade\":1505650,\"cidade\":\"PLACAS\",\"estado\":\"PA\",\"regiao\":\"Norte\",\"situacaoFuncionamento\":1,\"dependenciaAdministrativa\":3,\"idebAI\":0.0,\"idebAF\":0.0,\"enemMediaGeral\":0.0,\"dependenciaAdministrativaTxt\":\"Municipal\",\"situacaoFuncionamentoTxt\":\"Em atividade\"},{\"anoCenso\":2013,\"cod\":15590356,\"nome\":\"E M E F AGUA PRETA\",\"codCidade\":1504703,\"cidade\":\"MOJU\",\"estado\":\"PA\",\"regiao\":\"Norte\",\"situacaoFuncionamento\":1,\"dependenciaAdministrativa\":3,\"idebAI\":0.0,\"idebAF\":0.0,\"enemMediaGeral\":0.0,\"dependenciaAdministrativaTxt\":\"Municipal\",\"situacaoFuncionamentoTxt\":\"Em atividade\"},{\"anoCenso\":2013,\"cod\":15115070,\"nome\":\"E M E F ALTO VERDE\",\"codCidade\":1505064,\"cidade\":\"NOVO REPARTIMENTO\",\"estado\":\"PA\",\"regiao\":\"Norte\",\"situacaoFuncionamento\":1,\"dependenciaAdministrativa\":3,\"idebAI\":0.0,\"idebAF\":0.0,\"enemMediaGeral\":0.0,\"dependenciaAdministrativaTxt\":\"Municipal\",\"situacaoFuncionamentoTxt\":\"Em atividade\"},{\"anoCenso\":2013,\"cod\":15525821,\"nome\":\"E M E F AMAZONIA\",\"codCidade\":1505064,\"cidade\":\"NOVO REPARTIMENTO\",\"estado\":\"PA\",\"regiao\":\"Norte\",\"situacaoFuncionamento\":1,\"dependenciaAdministrativa\":3,\"idebAI\":0.0,\"idebAF\":0.0,\"enemMediaGeral\":0.0,\"dependenciaAdministrativaTxt\":\"Municipal\",\"situacaoFuncionamentoTxt\":\"Em atividade\"},{\"anoCenso\":2013,\"cod\":15022790,\"nome\":\"E M E F AMELIA HOLANDA\",\"codCidade\":1500305,\"cidade\":\"AFUA\",\"estado\":\"PA\",\"regiao\":\"Norte\",\"situacaoFuncionamento\":1,\"dependenciaAdministrativa\":3,\"idebAI\":0.0,\"idebAF\":0.0,\"enemMediaGeral\":0.0,\"dependenciaAdministrativaTxt\":\"Municipal\",\"situacaoFuncionamentoTxt\":\"Em atividade\"},{\"anoCenso\":2013,\"cod\":15077179,\"nome\":\"E M E F AMERICO BRASIL\",\"codCidade\":1505205,\"cidade\":\"OEIRAS DO PARA\",\"estado\":\"PA\",\"regiao\":\"Norte\",\"situacaoFuncionamento\":1,\"dependenciaAdministrativa\":3,\"idebAI\":2.5,\"idebAF\":0.0,\"enemMediaGeral\":0.0,\"dependenciaAdministrativaTxt\":\"Municipal\",\"situacaoFuncionamentoTxt\":\"Em atividade\"},{\"anoCenso\":2013,\"cod\":15531201,\"nome\":\"E M E F ANAUERA TAMBAI\",\"codCidade\":1502103,\"cidade\":\"CAMETA\",\"estado\":\"PA\",\"regiao\":\"Norte\",\"situacaoFuncionamento\":1,\"dependenciaAdministrativa\":3,\"idebAI\":0.0,\"idebAF\":0.0,\"enemMediaGeral\":0.0,\"dependenciaAdministrativaTxt\":\"Municipal\",\"situacaoFuncionamentoTxt\":\"Em atividade\"},{\"anoCenso\":2013,\"cod\":15536580,\"nome\":\"E M E F ANJO DA GUARDA\",\"codCidade\":1504703,\"cidade\":\"MOJU\",\"estado\":\"PA\",\"regiao\":\"Norte\",\"situacaoFuncionamento\":1,\"dependenciaAdministrativa\":3,\"idebAI\":0.0,\"idebAF\":0.0,\"enemMediaGeral\":0.0,\"dependenciaAdministrativaTxt\":\"Municipal\",\"situacaoFuncionamentoTxt\":\"Em atividade\"},{\"anoCenso\":2013,\"cod\":15546721,\"nome\":\"E M E F APOSTOLO PAULO\",\"codCidade\":1500305,\"cidade\":\"AFUA\",\"estado\":\"PA\",\"regiao\":\"Norte\",\"situacaoFuncionamento\":1,\"dependenciaAdministrativa\":3,\"idebAI\":0.0,\"idebAF\":0.0,\"enemMediaGeral\":0.0,\"dependenciaAdministrativaTxt\":\"Municipal\",\"situacaoFuncionamentoTxt\":\"Em atividade\"},{\"anoCenso\":2013,\"cod\":15571173,\"nome\":\"E M E F ARARA AZUL\",\"codCidade\":1505064,\"cidade\":\"NOVO REPARTIMENTO\",\"estado\":\"PA\",\"regiao\":\"Norte\",\"situacaoFuncionamento\":1,\"dependenciaAdministrativa\":3,\"idebAI\":0.0,\"idebAF\":0.0,\"enemMediaGeral\":0.0,\"dependenciaAdministrativaTxt\":\"Municipal\",\"situacaoFuncionamentoTxt\":\"Em atividade\"},{\"anoCenso\":2013,\"cod\":15121771,\"nome\":\"E M E F ARCO IRIS\",\"codCidade\":1507300,\"cidade\":\"SAO FELIX DO XINGU\",\"estado\":\"PA\",\"regiao\":\"Norte\",\"situacaoFuncionamento\":1,\"dependenciaAdministrativa\":3,\"idebAI\":0.0,\"idebAF\":0.0,\"enemMediaGeral\":0.0,\"dependenciaAdministrativaTxt\":\"Municipal\",\"situacaoFuncionamentoTxt\":\"Em atividade\"},{\"anoCenso\":2013,\"cod\":15069451,\"nome\":\"E M E F BAIXO PARURU\",\"codCidade\":1502103,\"cidade\":\"CAMETA\",\"estado\":\"PA\",\"regiao\":\"Norte\",\"situacaoFuncionamento\":1,\"dependenciaAdministrativa\":3,\"idebAI\":0.0,\"idebAF\":0.0,\"enemMediaGeral\":0.0,\"dependenciaAdministrativaTxt\":\"Municipal\",\"situacaoFuncionamentoTxt\":\"Em atividade\"},{\"anoCenso\":2013,\"cod\":15520340,\"nome\":\"E M E F BAIXO URUBUQUARA\",\"codCidade\":1502004,\"cidade\":\"CACHOEIRA DO ARARI\",\"estado\":\"PA\",\"regiao\":\"Norte\",\"situacaoFuncionamento\":1,\"dependenciaAdministrativa\":3,\"idebAI\":0.0,\"idebAF\":0.0,\"enemMediaGeral\":0.0,\"dependenciaAdministrativaTxt\":\"Municipal\",\"situacaoFuncionamentoTxt\":\"Em atividade\"},{\"anoCenso\":2013,\"cod\":15547868,\"nome\":\"E M E F BATALHA\",\"codCidade\":1501956,\"cidade\":\"CACHOEIRA DO PIRIA\",\"estado\":\"PA\",\"regiao\":\"Norte\",\"situacaoFuncionamento\":1,\"dependenciaAdministrativa\":3,\"idebAI\":0.0,\"idebAF\":0.0,\"enemMediaGeral\":0.0,\"dependenciaAdministrativaTxt\":\"Municipal\",\"situacaoFuncionamentoTxt\":\"Em atividade\"},{\"anoCenso\":2013,\"cod\":15138739,\"nome\":\"E M E F BELO PROGRESSO II\",\"codCidade\":1503705,\"cidade\":\"ITUPIRANGA\",\"estado\":\"PA\",\"regiao\":\"Norte\",\"situacaoFuncionamento\":1,\"dependenciaAdministrativa\":3,\"idebAI\":0.0,\"idebAF\":0.0,\"enemMediaGeral\":0.0,\"dependenciaAdministrativaTxt\":\"Municipal\",\"situacaoFuncionamentoTxt\":\"Em atividade\"},{\"anoCenso\":2013,\"cod\":15572242,\"nome\":\"E M E F BELOS PRAZERES\",\"codCidade\":1507706,\"cidade\":\"SAO SEBASTIAO DA BOA VISTA\",\"estado\":\"PA\",\"regiao\":\"Norte\",\"situacaoFuncionamento\":1,\"dependenciaAdministrativa\":3,\"idebAI\":0.0,\"idebAF\":0.0,\"enemMediaGeral\":0.0,\"dependenciaAdministrativaTxt\":\"Municipal\",\"situacaoFuncionamentoTxt\":\"Em atividade\"},{\"anoCenso\":2013,\"cod\":15524418,\"nome\":\"E M E F BETEL\",\"codCidade\":1503457,\"cidade\":\"IPIXUNA DO PARA\",\"estado\":\"PA\",\"regiao\":\"Norte\",\"situacaoFuncionamento\":1,\"dependenciaAdministrativa\":3,\"idebAI\":0.0,\"idebAF\":0.0,\"enemMediaGeral\":0.0,\"dependenciaAdministrativaTxt\":\"Municipal\",\"situacaoFuncionamentoTxt\":\"Em atividade\"},{\"anoCenso\":2013,\"cod\":15569438,\"nome\":\"E M E F BOA ESPERANCA DO SERINGAL\",\"codCidade\":1501956,\"cidade\":\"CACHOEIRA DO PIRIA\",\"estado\":\"PA\",\"regiao\":\"Norte\",\"situacaoFuncionamento\":1,\"dependenciaAdministrativa\":3,\"idebAI\":0.0,\"idebAF\":0.0,\"enemMediaGeral\":0.0,\"dependenciaAdministrativaTxt\":\"Municipal\",\"situacaoFuncionamentoTxt\":\"Em atividade\"},{\"anoCenso\":2013,\"cod\":15008312,\"nome\":\"E M E F BOA ESPERANCA I\",\"codCidade\":1504802,\"cidade\":\"MONTE ALEGRE\",\"estado\":\"PA\",\"regiao\":\"Norte\",\"situacaoFuncionamento\":1,\"dependenciaAdministrativa\":3,\"idebAI\":0.0,\"idebAF\":0.0,\"enemMediaGeral\":0.0,\"dependenciaAdministrativaTxt\":\"Municipal\",\"situacaoFuncionamentoTxt\":\"Em atividade\"},{\"anoCenso\":2013,\"cod\":15568598,\"nome\":\"E M E F BOA UNIAO\",\"codCidade\":1505809,\"cidade\":\"PORTEL\",\"estado\":\"PA\",\"regiao\":\"Norte\",\"situacaoFuncionamento\":1,\"dependenciaAdministrativa\":3,\"idebAI\":0.0,\"idebAF\":0.0,\"enemMediaGeral\":0.0,\"dependenciaAdministrativaTxt\":\"Municipal\",\"situacaoFuncionamentoTxt\":\"Em atividade\"},{\"anoCenso\":2013,\"cod\":15094804,\"nome\":\"E M E F BOA VISTA\",\"codCidade\":1507201,\"cidade\":\"SAO DOMINGOS DO CAPIM\",\"estado\":\"PA\",\"regiao\":\"Norte\",\"situacaoFuncionamento\":1,\"dependenciaAdministrativa\":3,\"idebAI\":0.0,\"idebAF\":0.0,\"enemMediaGeral\":0.0,\"dependenciaAdministrativaTxt\":\"Municipal\",\"situacaoFuncionamentoTxt\":\"Em atividade\"},{\"anoCenso\":2013,\"cod\":15582566,\"nome\":\"E M E F BOCA PEQUENA NOVA\",\"codCidade\":1502004,\"cidade\":\"CACHOEIRA DO ARARI\",\"estado\":\"PA\",\"regiao\":\"Norte\",\"situacaoFuncionamento\":1,\"dependenciaAdministrativa\":3,\"idebAI\":0.0,\"idebAF\":0.0,\"enemMediaGeral\":0.0,\"dependenciaAdministrativaTxt\":\"Municipal\",\"situacaoFuncionamentoTxt\":\"Em atividade\"},{\"anoCenso\":2013,\"cod\":15544923,\"nome\":\"E M E F BRACO DO MEIO\",\"codCidade\":1508308,\"cidade\":\"VISEU\",\"estado\":\"PA\",\"regiao\":\"Norte\",\"situacaoFuncionamento\":1,\"dependenciaAdministrativa\":3,\"idebAI\":0.0,\"idebAF\":0.0,\"enemMediaGeral\":0.0,\"dependenciaAdministrativaTxt\":\"Municipal\",\"situacaoFuncionamentoTxt\":\"Em atividade\"},{\"anoCenso\":2013,\"cod\":15150127,\"nome\":\"E M E F BRASIL NOVO\",\"codCidade\":1503044,\"cidade\":\"FLORESTA DO ARAGUAIA\",\"estado\":\"PA\",\"regiao\":\"Norte\",\"situacaoFuncionamento\":1,\"dependenciaAdministrativa\":3,\"idebAI\":0.0,\"idebAF\":0.0,\"enemMediaGeral\":0.0,\"dependenciaAdministrativaTxt\":\"Municipal\",\"situacaoFuncionamentoTxt\":\"Em atividade\"},{\"anoCenso\":2013,\"cod\":15545679,\"nome\":\"E M E F CABECEIRA DO IGARAPE GRANDE\",\"codCidade\":1504802,\"cidade\":\"MONTE ALEGRE\",\"estado\":\"PA\",\"regiao\":\"Norte\",\"situacaoFuncionamento\":1,\"dependenciaAdministrativa\":3,\"idebAI\":0.0,\"idebAF\":0.0,\"enemMediaGeral\":0.0,\"dependenciaAdministrativaTxt\":\"Municipal\",\"situacaoFuncionamentoTxt\":\"Em atividade\"},{\"anoCenso\":2013,\"cod\":15119149,\"nome\":\"E M E F CANDIRUACU\",\"codCidade\":1503457,\"cidade\":\"IPIXUNA DO PARA\",\"estado\":\"PA\",\"regiao\":\"Norte\",\"situacaoFuncionamento\":1,\"dependenciaAdministrativa\":3,\"idebAI\":0.0,\"idebAF\":0.0,\"enemMediaGeral\":0.0,\"dependenciaAdministrativaTxt\":\"Municipal\",\"situacaoFuncionamentoTxt\":\"Em atividade\"},{\"anoCenso\":2013,\"cod\":15530140,\"nome\":\"E M E F CANOAS DE CIMA\",\"codCidade\":1508308,\"cidade\":\"VISEU\",\"estado\":\"PA\",\"regiao\":\"Norte\",\"situacaoFuncionamento\":1,\"dependenciaAdministrativa\":3,\"idebAI\":0.0,\"idebAF\":0.0,\"enemMediaGeral\":0.0,\"dependenciaAdministrativaTxt\":\"Municipal\",\"situacaoFuncionamentoTxt\":\"Em atividade\"},{\"anoCenso\":2013,\"cod\":15162648,\"nome\":\"E M E F CARLOS BENEDITO\",\"codCidade\":1503705,\"cidade\":\"ITUPIRANGA\",\"estado\":\"PA\",\"regiao\":\"Norte\",\"situacaoFuncionamento\":1,\"dependenciaAdministrativa\":3,\"idebAI\":0.0,\"idebAF\":0.0,\"enemMediaGeral\":0.0,\"dependenciaAdministrativaTxt\":\"Municipal\",\"situacaoFuncionamentoTxt\":\"Em atividade\"},{\"anoCenso\":2013,\"cod\":15030792,\"nome\":\"E M E F CEL JOAO CANCIO DA SILVA BRABO II\",\"codCidade\":1504901,\"cidade\":\"MUANA\",\"estado\":\"PA\",\"regiao\":\"Norte\",\"situacaoFuncionamento\":1,\"dependenciaAdministrativa\":3,\"idebAI\":0.0,\"idebAF\":0.0,\"enemMediaGeral\":0.0,\"dependenciaAdministrativaTxt\":\"Municipal\",\"situacaoFuncionamentoTxt\":\"Em atividade\"},{\"anoCenso\":2013,\"cod\":15033414,\"nome\":\"E M E F CHEIA DE GRACA\",\"codCidade\":1506401,\"cidade\":\"SANTA CRUZ DO ARARI\",\"estado\":\"PA\",\"regiao\":\"Norte\",\"situacaoFuncionamento\":1,\"dependenciaAdministrativa\":3,\"idebAI\":0.0,\"idebAF\":0.0,\"enemMediaGeral\":0.0,\"dependenciaAdministrativaTxt\":\"Municipal\",\"situacaoFuncionamentoTxt\":\"Em atividade\"},{\"anoCenso\":2013,\"cod\":15574318,\"nome\":\"E M E F CHICO MENDES\",\"codCidade\":1504976,\"cidade\":\"NOVA IPIXUNA\",\"estado\":\"PA\",\"regiao\":\"Norte\",\"situacaoFuncionamento\":1,\"dependenciaAdministrativa\":3,\"idebAI\":0.0,\"idebAF\":0.0,\"enemMediaGeral\":0.0,\"dependenciaAdministrativaTxt\":\"Municipal\",\"situacaoFuncionamentoTxt\":\"Em atividade\"},{\"anoCenso\":2013,\"cod\":15158373,\"nome\":\"E M E F CICERO CORDEIRO\",\"codCidade\":1505486,\"cidade\":\"PACAJA\",\"estado\":\"PA\",\"regiao\":\"Norte\",\"situacaoFuncionamento\":1,\"dependenciaAdministrativa\":3,\"idebAI\":0.0,\"idebAF\":0.0,\"enemMediaGeral\":0.0,\"dependenciaAdministrativaTxt\":\"Municipal\",\"situacaoFuncionamentoTxt\":\"Em atividade\"},{\"anoCenso\":2013,\"cod\":15545520,\"nome\":\"E M E F CIPO\",\"codCidade\":1504802,\"cidade\":\"MONTE ALEGRE\",\"estado\":\"PA\",\"regiao\":\"Norte\",\"situacaoFuncionamento\":1,\"dependenciaAdministrativa\":3,\"idebAI\":0.0,\"idebAF\":0.0,\"enemMediaGeral\":0.0,\"dependenciaAdministrativaTxt\":\"Municipal\",\"situacaoFuncionamentoTxt\":\"Em atividade\"},{\"anoCenso\":2013,\"cod\":15545466,\"nome\":\"E M E F CORACAO DE JESUS\",\"codCidade\":1501808,\"cidade\":\"BREVES\",\"estado\":\"PA\",\"regiao\":\"Norte\",\"situacaoFuncionamento\":1,\"dependenciaAdministrativa\":3,\"idebAI\":0.0,\"idebAF\":0.0,\"enemMediaGeral\":0.0,\"dependenciaAdministrativaTxt\":\"Municipal\",\"situacaoFuncionamentoTxt\":\"Em atividade\"},{\"anoCenso\":2013,\"cod\":15522563,\"nome\":\"E M E F CRISTO REI\",\"codCidade\":1507201,\"cidade\":\"SAO DOMINGOS DO CAPIM\",\"estado\":\"PA\",\"regiao\":\"Norte\",\"situacaoFuncionamento\":1,\"dependenciaAdministrativa\":3,\"idebAI\":0.0,\"idebAF\":0.0,\"enemMediaGeral\":0.0,\"dependenciaAdministrativaTxt\":\"Municipal\",\"situacaoFuncionamentoTxt\":\"Em atividade\"},{\"anoCenso\":2013,\"cod\":15102866,\"nome\":\"E M E F CRISTO REI\",\"codCidade\":1506195,\"cidade\":\"RUROPOLIS\",\"estado\":\"PA\",\"regiao\":\"Norte\",\"situacaoFuncionamento\":1,\"dependenciaAdministrativa\":3,\"idebAI\":0.0,\"idebAF\":0.0,\"enemMediaGeral\":0.0,\"dependenciaAdministrativaTxt\":\"Municipal\",\"situacaoFuncionamentoTxt\":\"Em atividade\"},{\"anoCenso\":2013,\"cod\":15071790,\"nome\":\"E M E F DE ACUA\",\"codCidade\":1502103,\"cidade\":\"CAMETA\",\"estado\":\"PA\",\"regiao\":\"Norte\",\"situacaoFuncionamento\":1,\"dependenciaAdministrativa\":3,\"idebAI\":0.0,\"idebAF\":0.0,\"enemMediaGeral\":0.0,\"dependenciaAdministrativaTxt\":\"Municipal\",\"situacaoFuncionamentoTxt\":\"Em atividade\"},{\"anoCenso\":2013,\"cod\":15571521,\"nome\":\"E M E F DE BOM FIM\",\"codCidade\":1502103,\"cidade\":\"CAMETA\",\"estado\":\"PA\",\"regiao\":\"Norte\",\"situacaoFuncionamento\":1,\"dependenciaAdministrativa\":3,\"idebAI\":0.0,\"idebAF\":0.0,\"enemMediaGeral\":0.0,\"dependenciaAdministrativaTxt\":\"Municipal\",\"situacaoFuncionamentoTxt\":\"Em atividade\"},{\"anoCenso\":2013,\"cod\":15028798,\"nome\":\"E M E F DE CAMARAU\",\"codCidade\":1502004,\"cidade\":\"CACHOEIRA DO ARARI\",\"estado\":\"PA\",\"regiao\":\"Norte\",\"situacaoFuncionamento\":1,\"dependenciaAdministrativa\":3,\"idebAI\":0.0,\"idebAF\":0.0,\"enemMediaGeral\":0.0,\"dependenciaAdministrativaTxt\":\"Municipal\",\"situacaoFuncionamentoTxt\":\"Em atividade\"},{\"anoCenso\":2013,\"cod\":15530949,\"nome\":\"E M E F DE CANUDO\",\"codCidade\":1502103,\"cidade\":\"CAMETA\",\"estado\":\"PA\",\"regiao\":\"Norte\",\"situacaoFuncionamento\":1,\"dependenciaAdministrativa\":3,\"idebAI\":0.0,\"idebAF\":0.0,\"enemMediaGeral\":0.0,\"dependenciaAdministrativaTxt\":\"Municipal\",\"situacaoFuncionamentoTxt\":\"Em atividade\"},{\"anoCenso\":2013,\"cod\":15069699,\"nome\":\"E M E F DE CARACARA\",\"codCidade\":1502103,\"cidade\":\"CAMETA\",\"estado\":\"PA\",\"regiao\":\"Norte\",\"situacaoFuncionamento\":1,\"dependenciaAdministrativa\":3,\"idebAI\":0.0,\"idebAF\":0.0,\"enemMediaGeral\":0.0,\"dependenciaAdministrativaTxt\":\"Municipal\",\"situacaoFuncionamentoTxt\":\"Em atividade\"},{\"anoCenso\":2013,\"cod\":15069770,\"nome\":\"E M E F DE ILHA DOS PRAZERES\",\"codCidade\":1502103,\"cidade\":\"CAMETA\",\"estado\":\"PA\",\"regiao\":\"Norte\",\"situacaoFuncionamento\":1,\"dependenciaAdministrativa\":3,\"idebAI\":0.0,\"idebAF\":0.0,\"enemMediaGeral\":0.0,\"dependenciaAdministrativaTxt\":\"Municipal\",\"situacaoFuncionamentoTxt\":\"Em atividade\"},{\"anoCenso\":2013,\"cod\":15068811,\"nome\":\"E M E F DE ITANDUBA III\",\"codCidade\":1502103,\"cidade\":\"CAMETA\",\"estado\":\"PA\",\"regiao\":\"Norte\",\"situacaoFuncionamento\":1,\"dependenciaAdministrativa\":3,\"idebAI\":0.0,\"idebAF\":0.0,\"enemMediaGeral\":0.0,\"dependenciaAdministrativaTxt\":\"Municipal\",\"situacaoFuncionamentoTxt\":\"Em atividade\"},{\"anoCenso\":2013,\"cod\":15009220,\"nome\":\"E M E F DE MATA GRANDE\",\"codCidade\":1504802,\"cidade\":\"MONTE ALEGRE\",\"estado\":\"PA\",\"regiao\":\"Norte\",\"situacaoFuncionamento\":1,\"dependenciaAdministrativa\":3,\"idebAI\":0.0,\"idebAF\":0.0,\"enemMediaGeral\":0.0,\"dependenciaAdministrativaTxt\":\"Municipal\",\"situacaoFuncionamentoTxt\":\"Em atividade\"},{\"anoCenso\":2013,\"cod\":15071707,\"nome\":\"E M E F DE PACAJAI\",\"codCidade\":1502103,\"cidade\":\"CAMETA\",\"estado\":\"PA\",\"regiao\":\"Norte\",\"situacaoFuncionamento\":1,\"dependenciaAdministrativa\":3,\"idebAI\":0.0,\"idebAF\":0.0,\"enemMediaGeral\":0.0,\"dependenciaAdministrativaTxt\":\"Municipal\",\"situacaoFuncionamentoTxt\":\"Em atividade\"},{\"anoCenso\":2013,\"cod\":15067904,\"nome\":\"E M E F DE PIRANOPAM\",\"codCidade\":1501204,\"cidade\":\"BAIAO\",\"estado\":\"PA\",\"regiao\":\"Norte\",\"situacaoFuncionamento\":1,\"dependenciaAdministrativa\":3,\"idebAI\":0.0,\"idebAF\":0.0,\"enemMediaGeral\":0.0,\"dependenciaAdministrativaTxt\":\"Municipal\",\"situacaoFuncionamentoTxt\":\"Em atividade\"},{\"anoCenso\":2013,\"cod\":15069982,\"nome\":\"E M E F DE PORTO DO CAMPO\",\"codCidade\":1502103,\"cidade\":\"CAMETA\",\"estado\":\"PA\",\"regiao\":\"Norte\",\"situacaoFuncionamento\":1,\"dependenciaAdministrativa\":3,\"idebAI\":0.0,\"idebAF\":0.0,\"enemMediaGeral\":0.0,\"dependenciaAdministrativaTxt\":\"Municipal\",\"situacaoFuncionamentoTxt\":\"Em atividade\"},{\"anoCenso\":2013,\"cod\":15072665,\"nome\":\"E M E F DE SANTA MARIA\",\"codCidade\":1502103,\"cidade\":\"CAMETA\",\"estado\":\"PA\",\"regiao\":\"Norte\",\"situacaoFuncionamento\":1,\"dependenciaAdministrativa\":3,\"idebAI\":0.0,\"idebAF\":0.0,\"enemMediaGeral\":0.0,\"dependenciaAdministrativaTxt\":\"Municipal\",\"situacaoFuncionamentoTxt\":\"Em atividade\"},{\"anoCenso\":2013,\"cod\":15070727,\"nome\":\"E M E F DE TABATINGA DE CARAPAJO\",\"codCidade\":1502103,\"cidade\":\"CAMETA\",\"estado\":\"PA\",\"regiao\":\"Norte\",\"situacaoFuncionamento\":1,\"dependenciaAdministrativa\":3,\"idebAI\":0.0,\"idebAF\":0.0,\"enemMediaGeral\":0.0,\"dependenciaAdministrativaTxt\":\"Municipal\",\"situacaoFuncionamentoTxt\":\"Em atividade\"},{\"anoCenso\":2013,\"cod\":15069273,\"nome\":\"E M E F DE VARZEA SAO JOSE\",\"codCidade\":1502103,\"cidade\":\"CAMETA\",\"estado\":\"PA\",\"regiao\":\"Norte\",\"situacaoFuncionamento\":1,\"dependenciaAdministrativa\":3,\"idebAI\":0.0,\"idebAF\":0.0,\"enemMediaGeral\":0.0,\"dependenciaAdministrativaTxt\":\"Municipal\",\"situacaoFuncionamentoTxt\":\"Em atividade\"},{\"anoCenso\":2013,\"cod\":15121941,\"nome\":\"E M E F DEUS E GUIA\",\"codCidade\":1507300,\"cidade\":\"SAO FELIX DO XINGU\",\"estado\":\"PA\",\"regiao\":\"Norte\",\"situacaoFuncionamento\":1,\"dependenciaAdministrativa\":3,\"idebAI\":0.0,\"idebAF\":0.0,\"enemMediaGeral\":0.0,\"dependenciaAdministrativaTxt\":\"Municipal\",\"situacaoFuncionamentoTxt\":\"Em atividade\"},{\"anoCenso\":2013,\"cod\":15029484,\"nome\":\"E M E F DO CAMUTA\",\"codCidade\":1502509,\"cidade\":\"CHAVES\",\"estado\":\"PA\",\"regiao\":\"Norte\",\"situacaoFuncionamento\":1,\"dependenciaAdministrativa\":3,\"idebAI\":0.0,\"idebAF\":0.0,\"enemMediaGeral\":0.0,\"dependenciaAdministrativaTxt\":\"Municipal\",\"situacaoFuncionamentoTxt\":\"Em atividade\"},{\"anoCenso\":2013,\"cod\":15029522,\"nome\":\"E M E F DO VALERIO\",\"codCidade\":1502509,\"cidade\":\"CHAVES\",\"estado\":\"PA\",\"regiao\":\"Norte\",\"situacaoFuncionamento\":1,\"dependenciaAdministrativa\":3,\"idebAI\":0.0,\"idebAF\":0.0,\"enemMediaGeral\":0.0,\"dependenciaAdministrativaTxt\":\"Municipal\",\"situacaoFuncionamentoTxt\":\"Em atividade\"},{\"anoCenso\":2013,\"cod\":15094901,\"nome\":\"E M E F DOM BOSCO\",\"codCidade\":1507201,\"cidade\":\"SAO DOMINGOS DO CAPIM\",\"estado\":\"PA\",\"regiao\":\"Norte\",\"situacaoFuncionamento\":1,\"dependenciaAdministrativa\":3,\"idebAI\":0.0,\"idebAF\":0.0,\"enemMediaGeral\":0.0,\"dependenciaAdministrativaTxt\":\"Municipal\",\"situacaoFuncionamentoTxt\":\"Em atividade\"},{\"anoCenso\":2013,\"cod\":15031705,\"nome\":\"E M E F DOMINGOS BRABO\",\"codCidade\":1504901,\"cidade\":\"MUANA\",\"estado\":\"PA\",\"regiao\":\"Norte\",\"situacaoFuncionamento\":1,\"dependenciaAdministrativa\":3,\"idebAI\":0.0,\"idebAF\":0.0,\"enemMediaGeral\":0.0,\"dependenciaAdministrativaTxt\":\"Municipal\",\"situacaoFuncionamentoTxt\":\"Em atividade\"},{\"anoCenso\":2013,\"cod\":15108210,\"nome\":\"E M E F DUQUE DE CAXIAS\",\"codCidade\":1505486,\"cidade\":\"PACAJA\",\"estado\":\"PA\",\"regiao\":\"Norte\",\"situacaoFuncionamento\":1,\"dependenciaAdministrativa\":3,\"idebAI\":0.0,\"idebAF\":0.0,\"enemMediaGeral\":0.0,\"dependenciaAdministrativaTxt\":\"Municipal\",\"situacaoFuncionamentoTxt\":\"Em atividade\"},{\"anoCenso\":2013,\"cod\":15576116,\"nome\":\"E M E F EM CANOAS DE BAIXO\",\"codCidade\":1508308,\"cidade\":\"VISEU\",\"estado\":\"PA\",\"regiao\":\"Norte\",\"situacaoFuncionamento\":1,\"dependenciaAdministrativa\":3,\"idebAI\":0.0,\"idebAF\":0.0,\"enemMediaGeral\":0.0,\"dependenciaAdministrativaTxt\":\"Municipal\",\"situacaoFuncionamentoTxt\":\"Em atividade\"},{\"anoCenso\":2013,\"cod\":15097773,\"nome\":\"E M E F EM CUMARU ITAPURITEUA\",\"codCidade\":1508308,\"cidade\":\"VISEU\",\"estado\":\"PA\",\"regiao\":\"Norte\",\"situacaoFuncionamento\":1,\"dependenciaAdministrativa\":3,\"idebAI\":0.0,\"idebAF\":0.0,\"enemMediaGeral\":0.0,\"dependenciaAdministrativaTxt\":\"Municipal\",\"situacaoFuncionamentoTxt\":\"Em atividade\"},{\"anoCenso\":2013,\"cod\":15576183,\"nome\":\"E M E F EM GEMEDOR\",\"codCidade\":1508308,\"cidade\":\"VISEU\",\"estado\":\"PA\",\"regiao\":\"Norte\",\"situacaoFuncionamento\":1,\"dependenciaAdministrativa\":3,\"idebAI\":0.0,\"idebAF\":0.0,\"enemMediaGeral\":0.0,\"dependenciaAdministrativaTxt\":\"Municipal\",\"situacaoFuncionamentoTxt\":\"Em atividade\"},{\"anoCenso\":2013,\"cod\":15153576,\"nome\":\"E M E F EM JACAMIM\",\"codCidade\":1508308,\"cidade\":\"VISEU\",\"estado\":\"PA\",\"regiao\":\"Norte\",\"situacaoFuncionamento\":1,\"dependenciaAdministrativa\":3,\"idebAI\":0.0,\"idebAF\":0.0,\"enemMediaGeral\":0.0,\"dependenciaAdministrativaTxt\":\"Municipal\",\"situacaoFuncionamentoTxt\":\"Em atividade\"},{\"anoCenso\":2013,\"cod\":15098362,\"nome\":\"E M E F EM JIBOIA\",\"codCidade\":1508308,\"cidade\":\"VISEU\",\"estado\":\"PA\",\"regiao\":\"Norte\",\"situacaoFuncionamento\":1,\"dependenciaAdministrativa\":3,\"idebAI\":0.0,\"idebAF\":0.0,\"enemMediaGeral\":0.0,\"dependenciaAdministrativaTxt\":\"Municipal\",\"situacaoFuncionamentoTxt\":\"Em atividade\"},{\"anoCenso\":2013,\"cod\":15097820,\"nome\":\"E M E F EM OLHO D AGUA\",\"codCidade\":1508308,\"cidade\":\"VISEU\",\"estado\":\"PA\",\"regiao\":\"Norte\",\"situacaoFuncionamento\":1,\"dependenciaAdministrativa\":3,\"idebAI\":0.0,\"idebAF\":0.0,\"enemMediaGeral\":0.0,\"dependenciaAdministrativaTxt\":\"Municipal\",\"situacaoFuncionamentoTxt\":\"Em atividade\"},{\"anoCenso\":2013,\"cod\":15153681,\"nome\":\"E M E F EM SETE BARRACAS\",\"codCidade\":1508308,\"cidade\":\"VISEU\",\"estado\":\"PA\",\"regiao\":\"Norte\",\"situacaoFuncionamento\":1,\"dependenciaAdministrativa\":3,\"idebAI\":0.0,\"idebAF\":0.0,\"enemMediaGeral\":0.0,\"dependenciaAdministrativaTxt\":\"Municipal\",\"situacaoFuncionamentoTxt\":\"Em atividade\"},{\"anoCenso\":2013,\"cod\":15033449,\"nome\":\"E M E F ESPERANCA\",\"codCidade\":1506401,\"cidade\":\"SANTA CRUZ DO ARARI\",\"estado\":\"PA\",\"regiao\":\"Norte\",\"situacaoFuncionamento\":1,\"dependenciaAdministrativa\":3,\"idebAI\":0.0,\"idebAF\":0.0,\"enemMediaGeral\":0.0,\"dependenciaAdministrativaTxt\":\"Municipal\",\"situacaoFuncionamentoTxt\":\"Em atividade\"},{\"anoCenso\":2013,\"cod\":15566161,\"nome\":\"E M E F ESPIRITO SANTO DO MARACU\",\"codCidade\":1502103,\"cidade\":\"CAMETA\",\"estado\":\"PA\",\"regiao\":\"Norte\",\"situacaoFuncionamento\":1,\"dependenciaAdministrativa\":3,\"idebAI\":0.0,\"idebAF\":0.0,\"enemMediaGeral\":0.0,\"dependenciaAdministrativaTxt\":\"Municipal\",\"situacaoFuncionamentoTxt\":\"Em atividade\"},{\"anoCenso\":2013,\"cod\":15153932,\"nome\":\"E M E F ESTRELA D ALVA\",\"codCidade\":1506195,\"cidade\":\"RUROPOLIS\",\"estado\":\"PA\",\"regiao\":\"Norte\",\"situacaoFuncionamento\":1,\"dependenciaAdministrativa\":3,\"idebAI\":0.0,\"idebAF\":0.0,\"enemMediaGeral\":0.0,\"dependenciaAdministrativaTxt\":\"Municipal\",\"situacaoFuncionamentoTxt\":\"Em atividade\"},{\"anoCenso\":2013,\"cod\":15094936,\"nome\":\"E M E F FE EM DEUS\",\"codCidade\":1507201,\"cidade\":\"SAO DOMINGOS DO CAPIM\",\"estado\":\"PA\",\"regiao\":\"Norte\",\"situacaoFuncionamento\":1,\"dependenciaAdministrativa\":3,\"idebAI\":0.0,\"idebAF\":0.0,\"enemMediaGeral\":0.0,\"dependenciaAdministrativaTxt\":\"Municipal\",\"situacaoFuncionamentoTxt\":\"Em atividade\"},{\"anoCenso\":2013,\"cod\":15541576,\"nome\":\"E M E F FLEXAL\",\"codCidade\":1508308,\"cidade\":\"VISEU\",\"estado\":\"PA\",\"regiao\":\"Norte\",\"situacaoFuncionamento\":1,\"dependenciaAdministrativa\":3,\"idebAI\":0.0,\"idebAF\":0.0,\"enemMediaGeral\":0.0,\"dependenciaAdministrativaTxt\":\"Municipal\",\"situacaoFuncionamentoTxt\":\"Em atividade\"},{\"anoCenso\":2013,\"cod\":15110672,\"nome\":\"E M E F FLORESTA\",\"codCidade\":1508159,\"cidade\":\"URUARA\",\"estado\":\"PA\",\"regiao\":\"Norte\",\"situacaoFuncionamento\":1,\"dependenciaAdministrativa\":3,\"idebAI\":0.0,\"idebAF\":0.0,\"enemMediaGeral\":0.0,\"dependenciaAdministrativaTxt\":\"Municipal\",\"situacaoFuncionamentoTxt\":\"Em atividade\"},{\"anoCenso\":2013,\"cod\":15079163,\"nome\":\"E M E F FLORIANO PAIVA\",\"codCidade\":1500206,\"cidade\":\"ACARA\",\"estado\":\"PA\",\"regiao\":\"Norte\",\"situacaoFuncionamento\":1,\"dependenciaAdministrativa\":3,\"idebAI\":0.0,\"idebAF\":0.0,\"enemMediaGeral\":0.0,\"dependenciaAdministrativaTxt\":\"Municipal\",\"situacaoFuncionamentoTxt\":\"Em atividade\"},{\"anoCenso\":2013,\"cod\":15094952,\"nome\":\"E M E F FOZ DO JARI\",\"codCidade\":1507201,\"cidade\":\"SAO DOMINGOS DO CAPIM\",\"estado\":\"PA\",\"regiao\":\"Norte\",\"situacaoFuncionamento\":1,\"dependenciaAdministrativa\":3,\"idebAI\":0.0,\"idebAF\":0.0,\"enemMediaGeral\":0.0,\"dependenciaAdministrativaTxt\":\"Municipal\",\"situacaoFuncionamentoTxt\":\"Em atividade\"},{\"anoCenso\":2013,\"cod\":15158497,\"nome\":\"E M E F FUTURO DA CRIANCA\",\"codCidade\":1505486,\"cidade\":\"PACAJA\",\"estado\":\"PA\",\"regiao\":\"Norte\",\"situacaoFuncionamento\":1,\"dependenciaAdministrativa\":3,\"idebAI\":0.0,\"idebAF\":0.0,\"enemMediaGeral\":0.0,\"dependenciaAdministrativaTxt\":\"Municipal\",\"situacaoFuncionamentoTxt\":\"Em atividade\"},{\"anoCenso\":2013,\"cod\":15122042,\"nome\":\"E M E F GETULIO VARGAS\",\"codCidade\":1507300,\"cidade\":\"SAO FELIX DO XINGU\",\"estado\":\"PA\",\"regiao\":\"Norte\",\"situacaoFuncionamento\":1,\"dependenciaAdministrativa\":3,\"idebAI\":0.0,\"idebAF\":0.0,\"enemMediaGeral\":0.0,\"dependenciaAdministrativaTxt\":\"Municipal\",\"situacaoFuncionamentoTxt\":\"Em atividade\"},{\"anoCenso\":2013,\"cod\":15148521,\"nome\":\"E M E F GUIMARAES ROSA\",\"codCidade\":1505205,\"cidade\":\"OEIRAS DO PARA\",\"estado\":\"PA\",\"regiao\":\"Norte\",\"situacaoFuncionamento\":1,\"dependenciaAdministrativa\":3,\"idebAI\":0.0,\"idebAF\":0.0,\"enemMediaGeral\":0.0,\"dependenciaAdministrativaTxt\":\"Municipal\",\"situacaoFuncionamentoTxt\":\"Em atividade\"},{\"anoCenso\":2013,\"cod\":15097781,\"nome\":\"E M E F IGARAPE DO ANTA I\",\"codCidade\":1504802,\"cidade\":\"MONTE ALEGRE\",\"estado\":\"PA\",\"regiao\":\"Norte\",\"situacaoFuncionamento\":1,\"dependenciaAdministrativa\":3,\"idebAI\":0.0,\"idebAF\":0.0,\"enemMediaGeral\":0.0,\"dependenciaAdministrativaTxt\":\"Municipal\",\"situacaoFuncionamentoTxt\":\"Em atividade\"},{\"anoCenso\":2013,\"cod\":15070891,\"nome\":\"E M E F ILHA GAMA\",\"codCidade\":1502103,\"cidade\":\"CAMETA\",\"estado\":\"PA\",\"regiao\":\"Norte\",\"situacaoFuncionamento\":1,\"dependenciaAdministrativa\":3,\"idebAI\":0.0,\"idebAF\":0.0,\"enemMediaGeral\":0.0,\"dependenciaAdministrativaTxt\":\"Municipal\",\"situacaoFuncionamentoTxt\":\"Em atividade\"},{\"anoCenso\":2013,\"cod\":15547841,\"nome\":\"E M E F ITAPAIUNA\",\"codCidade\":1501956,\"cidade\":\"CACHOEIRA DO PIRIA\",\"estado\":\"PA\",\"regiao\":\"Norte\",\"situacaoFuncionamento\":1,\"dependenciaAdministrativa\":3,\"idebAI\":0.0,\"idebAF\":0.0,\"enemMediaGeral\":0.0,\"dependenciaAdministrativaTxt\":\"Municipal\",\"situacaoFuncionamentoTxt\":\"Em atividade\"},{\"anoCenso\":2013,\"cod\":15561917,\"nome\":\"E M E F ITAPAIUNA II\",\"codCidade\":1501956,\"cidade\":\"CACHOEIRA DO PIRIA\",\"estado\":\"PA\",\"regiao\":\"Norte\",\"situacaoFuncionamento\":1,\"dependenciaAdministrativa\":3,\"idebAI\":0.0,\"idebAF\":0.0,\"enemMediaGeral\":0.0,\"dependenciaAdministrativaTxt\":\"Municipal\",\"situacaoFuncionamentoTxt\":\"Em atividade\"},{\"anoCenso\":2013,\"cod\":15531104,\"nome\":\"E M E F IVENS RODRIGUES FERREIRA DA COSTA\",\"codCidade\":1502103,\"cidade\":\"CAMETA\",\"estado\":\"PA\",\"regiao\":\"Norte\",\"situacaoFuncionamento\":1,\"dependenciaAdministrativa\":3,\"idebAI\":3.5999999046325684,\"idebAF\":0.0,\"enemMediaGeral\":0.0,\"dependenciaAdministrativaTxt\":\"Municipal\",\"situacaoFuncionamentoTxt\":\"Em atividade\"},{\"anoCenso\":2013,\"cod\":15124991,\"nome\":\"E M E F JADER BARBALHO\",\"codCidade\":1502954,\"cidade\":\"ELDORADO DOS CARAJAS\",\"estado\":\"PA\",\"regiao\":\"Norte\",\"situacaoFuncionamento\":1,\"dependenciaAdministrativa\":3,\"idebAI\":0.0,\"idebAF\":0.0,\"enemMediaGeral\":0.0,\"dependenciaAdministrativaTxt\":\"Municipal\",\"situacaoFuncionamentoTxt\":\"Em atividade\"},{\"anoCenso\":2013,\"cod\":15578933,\"nome\":\"E M E F JESUS E POR NOS\",\"codCidade\":1507201,\"cidade\":\"SAO DOMINGOS DO CAPIM\",\"estado\":\"PA\",\"regiao\":\"Norte\",\"situacaoFuncionamento\":1,\"dependenciaAdministrativa\":3,\"idebAI\":0.0,\"idebAF\":0.0,\"enemMediaGeral\":0.0,\"dependenciaAdministrativaTxt\":\"Municipal\",\"situacaoFuncionamentoTxt\":\"Em atividade\"},{\"anoCenso\":2013,\"cod\":15094995,\"nome\":\"E M E F JOAO DA SILVA LOBO\",\"codCidade\":1507201,\"cidade\":\"SAO DOMINGOS DO CAPIM\",\"estado\":\"PA\",\"regiao\":\"Norte\",\"situacaoFuncionamento\":1,\"dependenciaAdministrativa\":3,\"idebAI\":2.299999952316284,\"idebAF\":0.0,\"enemMediaGeral\":0.0,\"dependenciaAdministrativaTxt\":\"Municipal\",\"situacaoFuncionamentoTxt\":\"Em atividade\"},{\"anoCenso\":2013,\"cod\":15089770,\"nome\":\"E M E F JOAQUIM JOSE DA SILVA XAVIER\",\"codCidade\":1503077,\"cidade\":\"GARRAFAO DO NORTE\",\"estado\":\"PA\",\"regiao\":\"Norte\",\"situacaoFuncionamento\":1,\"dependenciaAdministrativa\":3,\"idebAI\":0.0,\"idebAF\":0.0,\"enemMediaGeral\":0.0,\"dependenciaAdministrativaTxt\":\"Municipal\",\"situacaoFuncionamentoTxt\":\"Em atividade\"},{\"anoCenso\":2013,\"cod\":15560406,\"nome\":\"E M E F JOSE BELO\",\"codCidade\":1504901,\"cidade\":\"MUANA\",\"estado\":\"PA\",\"regiao\":\"Norte\",\"situacaoFuncionamento\":1,\"dependenciaAdministrativa\":3,\"idebAI\":0.0,\"idebAF\":0.0,\"enemMediaGeral\":0.0,\"dependenciaAdministrativaTxt\":\"Municipal\",\"situacaoFuncionamentoTxt\":\"Em atividade\"},{\"anoCenso\":2013,\"cod\":15158063,\"nome\":\"E M E F JOSE DE ALENCAR\",\"codCidade\":1504950,\"cidade\":\"NOVA ESPERANCA DO PIRIA\",\"estado\":\"PA\",\"regiao\":\"Norte\",\"situacaoFuncionamento\":1,\"dependenciaAdministrativa\":3,\"idebAI\":0.0,\"idebAF\":0.0,\"enemMediaGeral\":0.0,\"dependenciaAdministrativaTxt\":\"Municipal\",\"situacaoFuncionamentoTxt\":\"Em atividade\"},{\"anoCenso\":2013,\"cod\":15130100,\"nome\":\"E M E F JOSE NOGUEIRA DA SILVA\",\"codCidade\":1507151,\"cidade\":\"SAO DOMINGOS DO ARAGUAIA\",\"estado\":\"PA\",\"regiao\":\"Norte\",\"situacaoFuncionamento\":1,\"dependenciaAdministrativa\":3,\"idebAI\":0.0,\"idebAF\":0.0,\"enemMediaGeral\":0.0,\"dependenciaAdministrativaTxt\":\"Municipal\",\"situacaoFuncionamentoTxt\":\"Em atividade\"},{\"anoCenso\":2013,\"cod\":15547698,\"nome\":\"E M E F JUARERAMANHA\",\"codCidade\":1502103,\"cidade\":\"CAMETA\",\"estado\":\"PA\",\"regiao\":\"Norte\",\"situacaoFuncionamento\":1,\"dependenciaAdministrativa\":3,\"idebAI\":0.0,\"idebAF\":0.0,\"enemMediaGeral\":0.0,\"dependenciaAdministrativaTxt\":\"Municipal\",\"situacaoFuncionamentoTxt\":\"Em atividade\"},{\"anoCenso\":2013,\"cod\":15580024,\"nome\":\"E M E F LAVRADORES AMIGOS\",\"codCidade\":1507300,\"cidade\":\"SAO FELIX DO XINGU\",\"estado\":\"PA\",\"regiao\":\"Norte\",\"situacaoFuncionamento\":1,\"dependenciaAdministrativa\":3,\"idebAI\":0.0,\"idebAF\":0.0,\"enemMediaGeral\":0.0,\"dependenciaAdministrativaTxt\":\"Municipal\",\"situacaoFuncionamentoTxt\":\"Em atividade\"},{\"anoCenso\":2013,\"cod\":15008673,\"nome\":\"E M E F LINHA CENTRAL\",\"codCidade\":1504802,\"cidade\":\"MONTE ALEGRE\",\"estado\":\"PA\",\"regiao\":\"Norte\",\"situacaoFuncionamento\":1,\"dependenciaAdministrativa\":3,\"idebAI\":0.0,\"idebAF\":0.0,\"enemMediaGeral\":0.0,\"dependenciaAdministrativaTxt\":\"Municipal\",\"situacaoFuncionamentoTxt\":\"Em atividade\"},{\"anoCenso\":2013,\"cod\":15008681,\"nome\":\"E M E F LINHA CENTRAL II\",\"codCidade\":1504802,\"cidade\":\"MONTE ALEGRE\",\"estado\":\"PA\",\"regiao\":\"Norte\",\"situacaoFuncionamento\":1,\"dependenciaAdministrativa\":3,\"idebAI\":0.0,\"idebAF\":0.0,\"enemMediaGeral\":0.0,\"dependenciaAdministrativaTxt\":\"Municipal\",\"situacaoFuncionamentoTxt\":\"Em atividade\"},{\"anoCenso\":2013,\"cod\":15518930,\"nome\":\"E M E F LOURIVAL CAMARAO\",\"codCidade\":1507706,\"cidade\":\"SAO SEBASTIAO DA BOA VISTA\",\"estado\":\"PA\",\"regiao\":\"Norte\",\"situacaoFuncionamento\":1,\"dependenciaAdministrativa\":3,\"idebAI\":0.0,\"idebAF\":0.0,\"enemMediaGeral\":0.0,\"dependenciaAdministrativaTxt\":\"Municipal\",\"situacaoFuncionamentoTxt\":\"Em atividade\"},{\"anoCenso\":2013,\"cod\":15087980,\"nome\":\"E M E F LUZIA DO CIRIRI\",\"codCidade\":1500958,\"cidade\":\"AURORA DO PARA\",\"estado\":\"PA\",\"regiao\":\"Norte\",\"situacaoFuncionamento\":1,\"dependenciaAdministrativa\":3,\"idebAI\":0.0,\"idebAF\":0.0,\"enemMediaGeral\":0.0,\"dependenciaAdministrativaTxt\":\"Municipal\",\"situacaoFuncionamentoTxt\":\"Em atividade\"},{\"anoCenso\":2013,\"cod\":15079350,\"nome\":\"E M E F MANOEL GONCALVES II\",\"codCidade\":1500206,\"cidade\":\"ACARA\",\"estado\":\"PA\",\"regiao\":\"Norte\",\"situacaoFuncionamento\":1,\"dependenciaAdministrativa\":3,\"idebAI\":0.0,\"idebAF\":0.0,\"enemMediaGeral\":0.0,\"dependenciaAdministrativaTxt\":\"Municipal\",\"situacaoFuncionamentoTxt\":\"Em atividade\"},{\"anoCenso\":2013,\"cod\":15575586,\"nome\":\"E M E F MANUEL BANDEIRA\",\"codCidade\":1506195,\"cidade\":\"RUROPOLIS\",\"estado\":\"PA\",\"regiao\":\"Norte\",\"situacaoFuncionamento\":1,\"dependenciaAdministrativa\":3,\"idebAI\":0.0,\"idebAF\":0.0,\"enemMediaGeral\":0.0,\"dependenciaAdministrativaTxt\":\"Municipal\",\"situacaoFuncionamentoTxt\":\"Em atividade\"},{\"anoCenso\":2013,\"cod\":15575535,\"nome\":\"E M E F MARIA ALVES SANTANA\",\"codCidade\":1506195,\"cidade\":\"RUROPOLIS\",\"estado\":\"PA\",\"regiao\":\"Norte\",\"situacaoFuncionamento\":1,\"dependenciaAdministrativa\":3,\"idebAI\":0.0,\"idebAF\":0.0,\"enemMediaGeral\":0.0,\"dependenciaAdministrativaTxt\":\"Municipal\",\"situacaoFuncionamentoTxt\":\"Em atividade\"},{\"anoCenso\":2013,\"cod\":15115461,\"nome\":\"E M E F MARIA AMELIA\",\"codCidade\":1505064,\"cidade\":\"NOVO REPARTIMENTO\",\"estado\":\"PA\",\"regiao\":\"Norte\",\"situacaoFuncionamento\":1,\"dependenciaAdministrativa\":3,\"idebAI\":0.0,\"idebAF\":0.0,\"enemMediaGeral\":0.0,\"dependenciaAdministrativaTxt\":\"Municipal\",\"situacaoFuncionamentoTxt\":\"Em atividade\"},{\"anoCenso\":2013,\"cod\":15078183,\"nome\":\"E M E F MARIA DE NAZARE II\",\"codCidade\":1500206,\"cidade\":\"ACARA\",\"estado\":\"PA\",\"regiao\":\"Norte\",\"situacaoFuncionamento\":1,\"dependenciaAdministrativa\":3,\"idebAI\":0.0,\"idebAF\":0.0,\"enemMediaGeral\":0.0,\"dependenciaAdministrativaTxt\":\"Municipal\",\"situacaoFuncionamentoTxt\":\"Em atividade\"}]]'"
      ]
     },
     "execution_count": 1,
     "metadata": {},
     "output_type": "execute_result"
    }
   ],
   "source": [
    "# Importando as bibliotecas\n",
    "import pandas as pd\n",
    "# Usamos a biblioteca requests para fazer uma requisição a algum site\n",
    "import requests\n",
    "\n",
    "# URL de acesso aos dados via api\n",
    "# Basta ir ao site, montar a consulta de seu interesse e pegar a URL gerada\n",
    "# Queremos as escolas que estão em funcionamento mas não têm energia, nem água, nem esgoto\n",
    "url = 'http://educacao.dadosabertosbr.com/api/escolas/buscaavancada?situacaoFuncionamento=1&energiaInexistente=on&aguaInexistente=on&esgotoInexistente=on'\n",
    "\n",
    "# Vamos ter que requisitar o arquivo, transformar em lista, pegar apenas o elemento desejado e transformar em DF\n",
    "\n",
    "# Obtendo os dados\n",
    "# Vamos fazer uma requisicao ao site e receber um texto como resposta\n",
    "resposta = requests.get(url)\n",
    "\n",
    "# O texto da resposta\n",
    "# Pode ser o código de uma página, por exemplo (raspagem)\n",
    "resposta.text\n"
   ]
  },
  {
   "cell_type": "code",
   "execution_count": 2,
   "metadata": {},
   "outputs": [
    {
     "data": {
      "text/html": [
       "<div>\n",
       "<style scoped>\n",
       "    .dataframe tbody tr th:only-of-type {\n",
       "        vertical-align: middle;\n",
       "    }\n",
       "\n",
       "    .dataframe tbody tr th {\n",
       "        vertical-align: top;\n",
       "    }\n",
       "\n",
       "    .dataframe thead th {\n",
       "        text-align: right;\n",
       "    }\n",
       "</style>\n",
       "<table border=\"1\" class=\"dataframe\">\n",
       "  <thead>\n",
       "    <tr style=\"text-align: right;\">\n",
       "      <th></th>\n",
       "      <th>anoCenso</th>\n",
       "      <th>cidade</th>\n",
       "      <th>cod</th>\n",
       "      <th>codCidade</th>\n",
       "      <th>dependenciaAdministrativa</th>\n",
       "      <th>dependenciaAdministrativaTxt</th>\n",
       "      <th>enemMediaGeral</th>\n",
       "      <th>estado</th>\n",
       "      <th>idebAF</th>\n",
       "      <th>idebAI</th>\n",
       "      <th>nome</th>\n",
       "      <th>regiao</th>\n",
       "      <th>situacaoFuncionamento</th>\n",
       "      <th>situacaoFuncionamentoTxt</th>\n",
       "    </tr>\n",
       "  </thead>\n",
       "  <tbody>\n",
       "    <tr>\n",
       "      <th>0</th>\n",
       "      <td>2013</td>\n",
       "      <td>CANDIDO DE ABREU</td>\n",
       "      <td>41036026</td>\n",
       "      <td>4104402</td>\n",
       "      <td>3</td>\n",
       "      <td>Municipal</td>\n",
       "      <td>0.0</td>\n",
       "      <td>PR</td>\n",
       "      <td>0.0</td>\n",
       "      <td>0.0</td>\n",
       "      <td>BAIRRO DOS MENDES E R M EF</td>\n",
       "      <td>Sul</td>\n",
       "      <td>1</td>\n",
       "      <td>Em atividade</td>\n",
       "    </tr>\n",
       "    <tr>\n",
       "      <th>1</th>\n",
       "      <td>2013</td>\n",
       "      <td>SANTA HELENA</td>\n",
       "      <td>21237808</td>\n",
       "      <td>2109809</td>\n",
       "      <td>3</td>\n",
       "      <td>Municipal</td>\n",
       "      <td>0.0</td>\n",
       "      <td>MA</td>\n",
       "      <td>0.0</td>\n",
       "      <td>0.0</td>\n",
       "      <td>CEF CAJAZEIRAS</td>\n",
       "      <td>Nordeste</td>\n",
       "      <td>1</td>\n",
       "      <td>Em atividade</td>\n",
       "    </tr>\n",
       "    <tr>\n",
       "      <th>2</th>\n",
       "      <td>2013</td>\n",
       "      <td>MONTE ALEGRE</td>\n",
       "      <td>15008258</td>\n",
       "      <td>1504802</td>\n",
       "      <td>3</td>\n",
       "      <td>Municipal</td>\n",
       "      <td>0.0</td>\n",
       "      <td>PA</td>\n",
       "      <td>0.0</td>\n",
       "      <td>0.0</td>\n",
       "      <td>E M E F AGUA AZUL</td>\n",
       "      <td>Norte</td>\n",
       "      <td>1</td>\n",
       "      <td>Em atividade</td>\n",
       "    </tr>\n",
       "    <tr>\n",
       "      <th>3</th>\n",
       "      <td>2013</td>\n",
       "      <td>PLACAS</td>\n",
       "      <td>15534340</td>\n",
       "      <td>1505650</td>\n",
       "      <td>3</td>\n",
       "      <td>Municipal</td>\n",
       "      <td>0.0</td>\n",
       "      <td>PA</td>\n",
       "      <td>0.0</td>\n",
       "      <td>0.0</td>\n",
       "      <td>E M E F AGUA BOA</td>\n",
       "      <td>Norte</td>\n",
       "      <td>1</td>\n",
       "      <td>Em atividade</td>\n",
       "    </tr>\n",
       "    <tr>\n",
       "      <th>4</th>\n",
       "      <td>2013</td>\n",
       "      <td>MOJU</td>\n",
       "      <td>15590356</td>\n",
       "      <td>1504703</td>\n",
       "      <td>3</td>\n",
       "      <td>Municipal</td>\n",
       "      <td>0.0</td>\n",
       "      <td>PA</td>\n",
       "      <td>0.0</td>\n",
       "      <td>0.0</td>\n",
       "      <td>E M E F AGUA PRETA</td>\n",
       "      <td>Norte</td>\n",
       "      <td>1</td>\n",
       "      <td>Em atividade</td>\n",
       "    </tr>\n",
       "  </tbody>\n",
       "</table>\n",
       "</div>"
      ],
      "text/plain": [
       "   anoCenso            cidade       cod  codCidade  dependenciaAdministrativa  \\\n",
       "0      2013  CANDIDO DE ABREU  41036026    4104402                          3   \n",
       "1      2013      SANTA HELENA  21237808    2109809                          3   \n",
       "2      2013      MONTE ALEGRE  15008258    1504802                          3   \n",
       "3      2013            PLACAS  15534340    1505650                          3   \n",
       "4      2013              MOJU  15590356    1504703                          3   \n",
       "\n",
       "  dependenciaAdministrativaTxt  enemMediaGeral estado  idebAF  idebAI  \\\n",
       "0                    Municipal             0.0     PR     0.0     0.0   \n",
       "1                    Municipal             0.0     MA     0.0     0.0   \n",
       "2                    Municipal             0.0     PA     0.0     0.0   \n",
       "3                    Municipal             0.0     PA     0.0     0.0   \n",
       "4                    Municipal             0.0     PA     0.0     0.0   \n",
       "\n",
       "                         nome    regiao  situacaoFuncionamento  \\\n",
       "0  BAIRRO DOS MENDES E R M EF       Sul                      1   \n",
       "1              CEF CAJAZEIRAS  Nordeste                      1   \n",
       "2           E M E F AGUA AZUL     Norte                      1   \n",
       "3            E M E F AGUA BOA     Norte                      1   \n",
       "4          E M E F AGUA PRETA     Norte                      1   \n",
       "\n",
       "  situacaoFuncionamentoTxt  \n",
       "0             Em atividade  \n",
       "1             Em atividade  \n",
       "2             Em atividade  \n",
       "3             Em atividade  \n",
       "4             Em atividade  "
      ]
     },
     "execution_count": 2,
     "metadata": {},
     "output_type": "execute_result"
    }
   ],
   "source": [
    "# Criando o DataFrame\n",
    "df = pd.DataFrame(resposta.json()[1])\n",
    "\n",
    "df.head()"
   ]
  },
  {
   "cell_type": "code",
   "execution_count": 3,
   "metadata": {},
   "outputs": [
    {
     "data": {
      "text/plain": [
       "anoCenso                        100\n",
       "cidade                          100\n",
       "cod                             100\n",
       "codCidade                       100\n",
       "dependenciaAdministrativa       100\n",
       "dependenciaAdministrativaTxt    100\n",
       "enemMediaGeral                  100\n",
       "estado                          100\n",
       "idebAF                          100\n",
       "idebAI                          100\n",
       "nome                            100\n",
       "regiao                          100\n",
       "situacaoFuncionamento           100\n",
       "situacaoFuncionamentoTxt        100\n",
       "dtype: int64"
      ]
     },
     "execution_count": 3,
     "metadata": {},
     "output_type": "execute_result"
    }
   ],
   "source": [
    "# Qual o tamanho do DataFrame?\n",
    "df.count()"
   ]
  },
  {
   "cell_type": "code",
   "execution_count": 4,
   "metadata": {},
   "outputs": [
    {
     "data": {
      "text/plain": [
       "PA    98\n",
       "PR     1\n",
       "MA     1\n",
       "Name: estado, dtype: int64"
      ]
     },
     "execution_count": 4,
     "metadata": {},
     "output_type": "execute_result"
    }
   ],
   "source": [
    "# Em quais estados estão essas escolas?\n",
    "df['estado'].value_counts()"
   ]
  },
  {
   "cell_type": "code",
   "execution_count": 5,
   "metadata": {},
   "outputs": [
    {
     "data": {
      "text/plain": [
       "Municipal    100\n",
       "Name: dependenciaAdministrativaTxt, dtype: int64"
      ]
     },
     "execution_count": 5,
     "metadata": {},
     "output_type": "execute_result"
    }
   ],
   "source": [
    "# São todas escolas municipais?\n",
    "df['dependenciaAdministrativaTxt'].value_counts()"
   ]
  }
 ],
 "metadata": {
  "kernelspec": {
   "display_name": "Python 3",
   "language": "python",
   "name": "python3"
  },
  "language_info": {
   "codemirror_mode": {
    "name": "ipython",
    "version": 3
   },
   "file_extension": ".py",
   "mimetype": "text/x-python",
   "name": "python",
   "nbconvert_exporter": "python",
   "pygments_lexer": "ipython3",
   "version": "3.6.5"
  }
 },
 "nbformat": 4,
 "nbformat_minor": 2
}
