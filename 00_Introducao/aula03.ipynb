{
 "cells": [
  {
   "cell_type": "markdown",
   "metadata": {
    "colab_type": "text",
    "id": "GFJ4EVNomx-9"
   },
   "source": [
    "## Phyton\n"
   ]
  },
  {
   "cell_type": "code",
   "execution_count": 0,
   "metadata": {
    "colab": {},
    "colab_type": "code",
    "id": "Pra_pLjfAW3d"
   },
   "outputs": [],
   "source": [
    "from google.colab import drive\n",
    "drive.mount('/content/drive')"
   ]
  },
  {
   "cell_type": "markdown",
   "metadata": {
    "colab_type": "text",
    "id": "LpI7iiKFVv85"
   },
   "source": [
    "Importando as bibliotecas básicas"
   ]
  },
  {
   "cell_type": "code",
   "execution_count": 0,
   "metadata": {
    "colab": {},
    "colab_type": "code",
    "id": "KrCFI6wjVy8r"
   },
   "outputs": [],
   "source": [
    "import pandas as pd\n",
    "import seaborn as sns\n",
    "import numpy as np\n",
    "import matplotlib.pyplot as plt"
   ]
  },
  {
   "cell_type": "markdown",
   "metadata": {
    "colab_type": "text",
    "id": "pN6MI_aOdLkK"
   },
   "source": [
    "Carregando a Base de Dados"
   ]
  },
  {
   "cell_type": "code",
   "execution_count": 0,
   "metadata": {
    "colab": {},
    "colab_type": "code",
    "id": "fH08VuIvDYqC"
   },
   "outputs": [],
   "source": [
    "# carrega o dataset de london\n",
    "from sklearn.datasets import load_boston\n",
    "boston = load_boston()"
   ]
  },
  {
   "cell_type": "code",
   "execution_count": 0,
   "metadata": {
    "colab": {},
    "colab_type": "code",
    "id": "vdncFGtm9EZe"
   },
   "outputs": [],
   "source": [
    "# descrição do dataset\n",
    "print (boston.DESCR)"
   ]
  },
  {
   "cell_type": "code",
   "execution_count": 0,
   "metadata": {
    "colab": {},
    "colab_type": "code",
    "id": "e1d1cfElD_aD"
   },
   "outputs": [],
   "source": [
    "# cria um dataframe pandas\n",
    "data = pd.DataFrame(boston.data, columns=boston.feature_names)"
   ]
  },
  {
   "cell_type": "markdown",
   "metadata": {
    "colab_type": "text",
    "id": "2DqDhU9Gdkme"
   },
   "source": [
    "Adicionando a coluna que será nossa variável alvo"
   ]
  },
  {
   "cell_type": "code",
   "execution_count": 0,
   "metadata": {
    "colab": {},
    "colab_type": "code",
    "id": "WaGqRi0vElWS"
   },
   "outputs": [],
   "source": [
    "# adiciona a variável MEDV\n",
    "data['MEDV'] = boston.target"
   ]
  },
  {
   "cell_type": "code",
   "execution_count": 0,
   "metadata": {
    "colab": {},
    "colab_type": "code",
    "id": "caKPkl_SFil0"
   },
   "outputs": [],
   "source": [
    "# filtra os top 16 maiores registro da coluna MEDV\n",
    "top16 = data.nlargest(16, 'MEDV').index"
   ]
  },
  {
   "cell_type": "code",
   "execution_count": 0,
   "metadata": {
    "colab": {},
    "colab_type": "code",
    "id": "cicsUFf4OELZ"
   },
   "outputs": [],
   "source": [
    "# remove os valores listados em top16\n",
    "data.drop(top16, inplace=True)"
   ]
  },
  {
   "cell_type": "markdown",
   "metadata": {
    "colab_type": "text",
    "id": "X2mMG-H_xfCU"
   },
   "source": [
    "**Definindo um Baseline**\n",
    "\n",
    "- `Uma baseline é importante para ter marcos no projeto`.\n",
    "- `Permite uma explicação fácil para todos os envolvidos`.\n",
    "- `É algo que sempre tentaremos ganhar na medida do possível`."
   ]
  },
  {
   "cell_type": "code",
   "execution_count": 0,
   "metadata": {
    "colab": {},
    "colab_type": "code",
    "id": "q-k-jC68Tmra"
   },
   "outputs": [],
   "source": [
    "# converte os dados\n",
    "data.RM = data.RM.astype(int)"
   ]
  },
  {
   "cell_type": "code",
   "execution_count": 0,
   "metadata": {
    "colab": {},
    "colab_type": "code",
    "id": "cA9VCNRnUOPi"
   },
   "outputs": [],
   "source": [
    "data.info()"
   ]
  },
  {
   "cell_type": "code",
   "execution_count": 0,
   "metadata": {
    "colab": {},
    "colab_type": "code",
    "id": "K_-mp-6WtUee"
   },
   "outputs": [],
   "source": [
    "# estatística descritiva da coluna numero de quartos\n",
    "data.RM.describe()"
   ]
  },
  {
   "cell_type": "code",
   "execution_count": 0,
   "metadata": {
    "colab": {},
    "colab_type": "code",
    "id": "HIknobGdtUQR"
   },
   "outputs": [],
   "source": [
    "# definindo a regra para categorizar os dados\n",
    "categorias = []"
   ]
  },
  {
   "cell_type": "code",
   "execution_count": 0,
   "metadata": {
    "colab": {},
    "colab_type": "code",
    "id": "faL-8m1onPP2"
   },
   "outputs": [],
   "source": [
    "# alimenta a lista categorias\n",
    "for i in data.RM.iteritems():\n",
    "  valor = (i[1])\n",
    "  if valor <= 4:\n",
    "    categorias.append('Pequeno')\n",
    "  elif valor < 7:\n",
    "    categorias.append('Medio')\n",
    "  else:\n",
    "    categorias.append('Grande')"
   ]
  },
  {
   "cell_type": "code",
   "execution_count": 0,
   "metadata": {
    "colab": {},
    "colab_type": "code",
    "id": "-nEk0wXeNFWE"
   },
   "outputs": [],
   "source": [
    "# cria a coluna categorias\n",
    "data['categorias'] = categorias"
   ]
  },
  {
   "cell_type": "code",
   "execution_count": 0,
   "metadata": {
    "colab": {},
    "colab_type": "code",
    "id": "i-iVO76sR-am"
   },
   "outputs": [],
   "source": [
    "# imprime a contagem de categorias\n",
    "data.categorias.value_counts()"
   ]
  },
  {
   "cell_type": "code",
   "execution_count": 0,
   "metadata": {
    "colab": {},
    "colab_type": "code",
    "id": "Gxa6OrD8Ht-0"
   },
   "outputs": [],
   "source": [
    "# agrupa as categorias e calcula as médias\n",
    "medias_categorias = data.groupby(by='categorias')['MEDV'].mean()"
   ]
  },
  {
   "cell_type": "code",
   "execution_count": 0,
   "metadata": {
    "colab": {},
    "colab_type": "code",
    "id": "zYMhxnzDIM2X"
   },
   "outputs": [],
   "source": [
    "# visualizando a variável medias_categorias\n",
    "medias_categorias"
   ]
  },
  {
   "cell_type": "code",
   "execution_count": 0,
   "metadata": {
    "colab": {},
    "colab_type": "code",
    "id": "wJHkQXozHcYN"
   },
   "outputs": [],
   "source": [
    "# criando o dicionario com chaves medio, grande e pequeno e seus valores\n",
    "dic_baseline = {'Grande': medias_categorias[0], 'Medio': medias_categorias[1], 'Pequeno': medias_categorias[2]}"
   ]
  },
  {
   "cell_type": "code",
   "execution_count": 0,
   "metadata": {
    "colab": {},
    "colab_type": "code",
    "id": "AMrYkM_T7eqS"
   },
   "outputs": [],
   "source": [
    "# imprime dicionario\n",
    "dic_baseline"
   ]
  },
  {
   "cell_type": "code",
   "execution_count": 0,
   "metadata": {
    "colab": {},
    "colab_type": "code",
    "id": "7lfDPAmL8kjX"
   },
   "outputs": [],
   "source": [
    "# cria a função retorna baseline\n",
    "def retorna_baseline(num_quartos):\n",
    "  if num_quartos <= 4:\n",
    "    return dic_baseline.get('Pequeno')\n",
    "  elif num_quartos < 7:\n",
    "    return dic_baseline.get('Medio')\n",
    "  else:\n",
    "    return dic_baseline.get('Grande')"
   ]
  },
  {
   "cell_type": "code",
   "execution_count": 0,
   "metadata": {
    "colab": {},
    "colab_type": "code",
    "id": "um5I8oQ2Arhe"
   },
   "outputs": [],
   "source": [
    "# chama a função retorna baseline\n",
    "retorna_baseline(7)"
   ]
  },
  {
   "cell_type": "code",
   "execution_count": 0,
   "metadata": {
    "colab": {},
    "colab_type": "code",
    "id": "785EhcLuCoqw"
   },
   "outputs": [],
   "source": [
    "for i in data.RM.iteritems():\n",
    "  n_quartos = i[1]\n",
    "  print('Número de quartos é: {} , Valor médio: {}'.format(n_quartos,retorna_baseline(n_quartos)))"
   ]
  },
  {
   "cell_type": "code",
   "execution_count": 0,
   "metadata": {
    "colab": {},
    "colab_type": "code",
    "id": "7Is3KDjcXzBG"
   },
   "outputs": [],
   "source": [
    "# imprime as 5 primeiras linhas do dataframe\n",
    "data.head()"
   ]
  },
  {
   "cell_type": "markdown",
   "metadata": {
    "colab_type": "text",
    "id": "SaYmsVtotcF_"
   },
   "source": [
    "### Trabalhando com a baseline"
   ]
  },
  {
   "cell_type": "markdown",
   "metadata": {
    "colab_type": "text",
    "id": "SXXetS7AHiXz"
   },
   "source": [
    "Preparando os dados"
   ]
  },
  {
   "cell_type": "code",
   "execution_count": 0,
   "metadata": {
    "colab": {},
    "colab_type": "code",
    "id": "Ai2si0SMFKVX"
   },
   "outputs": [],
   "source": [
    "# remove as colunas colineares, variavel alvo e a coluna categorias\n",
    "X = data.drop(['RAD','TAX','MEDV','DIS','AGE','ZN','categorias'], axis=1)"
   ]
  },
  {
   "cell_type": "code",
   "execution_count": 0,
   "metadata": {
    "colab": {},
    "colab_type": "code",
    "id": "vxOb-hwYFFJx"
   },
   "outputs": [],
   "source": [
    "# variável 'y' é nossa variável alvo\n",
    "y = data['MEDV']"
   ]
  },
  {
   "cell_type": "code",
   "execution_count": 0,
   "metadata": {
    "colab": {},
    "colab_type": "code",
    "id": "EhagncsDLyk-"
   },
   "outputs": [],
   "source": [
    "# Dados na variável X\n",
    "X.head()"
   ]
  },
  {
   "cell_type": "code",
   "execution_count": 0,
   "metadata": {
    "colab": {},
    "colab_type": "code",
    "id": "W3He9wgaL5W7"
   },
   "outputs": [],
   "source": [
    "# Variável alvo\n",
    "y.head()"
   ]
  },
  {
   "cell_type": "markdown",
   "metadata": {
    "colab_type": "text",
    "id": "B0I1geDbH2cV"
   },
   "source": [
    "Separando os conjuntos de treino e teste"
   ]
  },
  {
   "cell_type": "code",
   "execution_count": 0,
   "metadata": {
    "colab": {},
    "colab_type": "code",
    "id": "13W2Fe2PfoK2"
   },
   "outputs": [],
   "source": [
    "# carrega o método train_test_split\n",
    "from sklearn.model_selection import train_test_split"
   ]
  },
  {
   "cell_type": "code",
   "execution_count": 0,
   "metadata": {
    "colab": {},
    "colab_type": "code",
    "id": "FaFtnr62AJ74"
   },
   "outputs": [],
   "source": [
    "# divide os dados entre o conjunto de treino e teste, 80% e 20% respectivamente.\n",
    "# define qualquer valor para o parâmetro random_state.\n",
    "X_train, X_test, y_train, y_test = train_test_split(X, y, test_size = 0.2, random_state=5)"
   ]
  },
  {
   "cell_type": "code",
   "execution_count": 0,
   "metadata": {
    "colab": {},
    "colab_type": "code",
    "id": "BiUsFzXQAJ38"
   },
   "outputs": [],
   "source": [
    "# imprime a quantidade de linhas dos conjuntos\n",
    "print ('X_train: numero de linhas e colunas: {}'.format(X_train.shape))\n",
    "print ('X_test: numero de linhas e colunas: {}'.format(X_test.shape))\n",
    "print ('y_train: numero de linhas e colunas: {}'.format(y_train.shape))\n",
    "print ('y_test: numero de linhas e colunas: {}'.format(y_test.shape))"
   ]
  },
  {
   "cell_type": "markdown",
   "metadata": {
    "colab_type": "text",
    "id": "Wu94wESmFQqy"
   },
   "source": [
    "Modelo de baseline"
   ]
  },
  {
   "cell_type": "code",
   "execution_count": 0,
   "metadata": {
    "colab": {},
    "colab_type": "code",
    "id": "FI97hd4HFPtR"
   },
   "outputs": [],
   "source": [
    "# imprimindo as 5 primeiras linhas dos dados de teste\n",
    "X_test.head()"
   ]
  },
  {
   "cell_type": "code",
   "execution_count": 0,
   "metadata": {
    "colab": {},
    "colab_type": "code",
    "id": "vRGvzY2jFbvD"
   },
   "outputs": [],
   "source": [
    "# definindo uma lista de predicoes\n",
    "predicoes = []"
   ]
  },
  {
   "cell_type": "code",
   "execution_count": 0,
   "metadata": {
    "colab": {},
    "colab_type": "code",
    "id": "xZ09WeQcGdL0"
   },
   "outputs": [],
   "source": [
    "# para cada elemento do teste alimenta a lista predicoes\n",
    "for i in X_test.RM.iteritems():\n",
    "  n_quartos = i[1]\n",
    "  predicoes.append(retorna_baseline(n_quartos))"
   ]
  },
  {
   "cell_type": "code",
   "execution_count": 0,
   "metadata": {
    "colab": {},
    "colab_type": "code",
    "id": "Zn-1qKZYF16H"
   },
   "outputs": [],
   "source": [
    "# imprime as 10 primeiras linhas da lista de predicoes\n",
    "predicoes[:10]"
   ]
  },
  {
   "cell_type": "markdown",
   "metadata": {
    "colab_type": "text",
    "id": "CM3QVVQ-Ug5L"
   },
   "source": [
    "Atribuindo resultados a um dataframe\n",
    "\n",
    "-   `Manteremos um log ao longo do projeto`\n",
    "-   `Permite a evolução dado o baseline`\n",
    "\n"
   ]
  },
  {
   "cell_type": "code",
   "execution_count": 0,
   "metadata": {
    "colab": {},
    "colab_type": "code",
    "id": "dMr0oUucnuy-"
   },
   "outputs": [],
   "source": [
    "# cria um dataframe vazio\n",
    "df_results = pd.DataFrame()"
   ]
  },
  {
   "cell_type": "code",
   "execution_count": 0,
   "metadata": {
    "colab": {},
    "colab_type": "code",
    "id": "9T5FnjHnUDTA"
   },
   "outputs": [],
   "source": [
    "# adiciona a coluna valor_real\n",
    "df_results['valor_real'] = y_test.values"
   ]
  },
  {
   "cell_type": "code",
   "execution_count": 0,
   "metadata": {
    "colab": {},
    "colab_type": "code",
    "id": "seteWjL0UDL3"
   },
   "outputs": [],
   "source": [
    "# cria a coluna valor_predito_baseline com as predicoes\n",
    "df_results['valor_predito_baseline'] = predicoes"
   ]
  },
  {
   "cell_type": "code",
   "execution_count": 0,
   "metadata": {
    "colab": {},
    "colab_type": "code",
    "id": "6e34IoHyUC77"
   },
   "outputs": [],
   "source": [
    "# imprimindo as 10 primeiras linhas do df_results\n",
    "df_results.head(10)"
   ]
  },
  {
   "cell_type": "markdown",
   "metadata": {
    "colab_type": "text",
    "id": "HNRa3fuzVX_6"
   },
   "source": [
    "Plota o valor real e o baseline"
   ]
  },
  {
   "cell_type": "code",
   "execution_count": 0,
   "metadata": {
    "colab": {},
    "colab_type": "code",
    "id": "wcrc2krAVJCN"
   },
   "outputs": [],
   "source": [
    "import plotly.graph_objects as go\n",
    "\n",
    "# Create traces\n",
    "fig = go.Figure()\n",
    "\n",
    "# Linha com os dados de teste\n",
    "fig.add_trace(go.Scatter(x=df_results.index,\n",
    "                         y=df_results.valor_real,\n",
    "                         mode='lines+markers',\n",
    "                         name='Valor Real'))\n",
    "\n",
    "# Linha com os dados preditos\n",
    "fig.add_trace(go.Scatter(x=df_results.index,\n",
    "                         y=df_results.valor_predito_baseline,\n",
    "                         mode='lines+markers',\n",
    "                         name='Valor Predito Baseline'))\n",
    "# Plota a figura\n",
    "fig.show()"
   ]
  },
  {
   "cell_type": "markdown",
   "metadata": {
    "colab_type": "text",
    "id": "IUt81GVWGHLb"
   },
   "source": [
    "Avaliação do modelo baseline"
   ]
  },
  {
   "cell_type": "code",
   "execution_count": 0,
   "metadata": {
    "colab": {},
    "colab_type": "code",
    "id": "ACJFie9JF7iq"
   },
   "outputs": [],
   "source": [
    "# calcula a métrica rmse\n",
    "from sklearn.metrics import mean_squared_error\n",
    "from math import sqrt"
   ]
  },
  {
   "cell_type": "code",
   "execution_count": 0,
   "metadata": {
    "colab": {},
    "colab_type": "code",
    "id": "6UO0iZm44Gl_"
   },
   "outputs": [],
   "source": [
    "rmse = (np.sqrt(mean_squared_error(y_test, predicoes)))"
   ]
  },
  {
   "cell_type": "code",
   "execution_count": 0,
   "metadata": {
    "colab": {},
    "colab_type": "code",
    "id": "aFThM7L9GDA6"
   },
   "outputs": [],
   "source": [
    "# imprime a performance do modelo\n",
    "print ('Performance do modelo baseline:')\n",
    "print('\\nRMSE é: {} '.format(rmse))"
   ]
  },
  {
   "cell_type": "markdown",
   "metadata": {
    "colab_type": "text",
    "id": "6jL-gszHYgZY"
   },
   "source": [
    "### Machine Learning"
   ]
  },
  {
   "cell_type": "markdown",
   "metadata": {
    "colab_type": "text",
    "id": "8rokdiRpzTry"
   },
   "source": [
    "#### Regressão Linear"
   ]
  },
  {
   "cell_type": "markdown",
   "metadata": {
    "colab_type": "text",
    "id": "nEbWBlL3Ir9M"
   },
   "source": [
    "- `Devido a correlação entre algumas features podemos usar uma regressão linear.`\n",
    "- `Modelo simples e eficiente.`\n",
    "- `Solução rápida e robusta.`"
   ]
  },
  {
   "cell_type": "code",
   "execution_count": 0,
   "metadata": {
    "colab": {},
    "colab_type": "code",
    "id": "xy7zx_pJIw6e"
   },
   "outputs": [],
   "source": [
    "# carrega o pacote LinearRegression\n",
    "from sklearn.linear_model import LinearRegression"
   ]
  },
  {
   "cell_type": "code",
   "execution_count": 0,
   "metadata": {
    "colab": {},
    "colab_type": "code",
    "id": "fRgZ6NHUfvzM"
   },
   "outputs": [],
   "source": [
    "# cria o objeto do tipo LinearRegression\n",
    "lin_model = LinearRegression()"
   ]
  },
  {
   "cell_type": "code",
   "execution_count": 0,
   "metadata": {
    "colab": {},
    "colab_type": "code",
    "id": "EP4-r-x9fyMF"
   },
   "outputs": [],
   "source": [
    "# treina o algoritmo de regressão linear\n",
    "lin_model.fit(X_train, y_train)"
   ]
  },
  {
   "cell_type": "code",
   "execution_count": 0,
   "metadata": {
    "colab": {},
    "colab_type": "code",
    "id": "XwIaD1k1NVzg"
   },
   "outputs": [],
   "source": [
    "# avaliação do modelo nos dados de teste\n",
    "y_pred = lin_model.predict(X_test)"
   ]
  },
  {
   "cell_type": "code",
   "execution_count": 0,
   "metadata": {
    "colab": {},
    "colab_type": "code",
    "id": "Wx7arH2JoHGU"
   },
   "outputs": [],
   "source": [
    "# calcula a métrica rmse\n",
    "rmse = (np.sqrt(mean_squared_error(y_test, y_pred)))"
   ]
  },
  {
   "cell_type": "code",
   "execution_count": 0,
   "metadata": {
    "colab": {},
    "colab_type": "code",
    "id": "zi54cRQwNcPm"
   },
   "outputs": [],
   "source": [
    "# imprime a performance do modelo\n",
    "print ('Performance do modelo avaliado com os dados de teste:')\n",
    "print('\\nRMSE é: {} '.format(rmse))"
   ]
  },
  {
   "cell_type": "code",
   "execution_count": 0,
   "metadata": {
    "colab": {},
    "colab_type": "code",
    "id": "Fc4Cy6ehSRz7"
   },
   "outputs": [],
   "source": [
    "# atribui os resultados no dataframe df_results\n",
    "df_results['valor_predito_reg_linear'] = lin_model.predict(X_test)"
   ]
  },
  {
   "cell_type": "code",
   "execution_count": 0,
   "metadata": {
    "colab": {},
    "colab_type": "code",
    "id": "vY6sddMASRrj"
   },
   "outputs": [],
   "source": [
    "df_results.head(10)"
   ]
  },
  {
   "cell_type": "code",
   "execution_count": 0,
   "metadata": {
    "colab": {},
    "colab_type": "code",
    "id": "qojh6XHzSDHZ"
   },
   "outputs": [],
   "source": [
    "import plotly.graph_objects as go\n",
    "\n",
    "# Create traces\n",
    "fig = go.Figure()\n",
    "\n",
    "# Linha com os dados de teste\n",
    "fig.add_trace(go.Scatter(x=df_results.index,\n",
    "                         y=df_results.valor_real,\n",
    "                         mode='lines+markers',\n",
    "                         name='Valor Real'))\n",
    "\n",
    "# Linha com os dados de baseline\n",
    "fig.add_trace(go.Scatter(x=df_results.index,\n",
    "                         y=df_results.valor_predito_baseline,\n",
    "                         mode='lines+markers',\n",
    "                         name='Baseline'))\n",
    "\n",
    "# Linha com os dados preditos pela regressão linear\n",
    "fig.add_trace(go.Scatter(x=df_results.index,\n",
    "                         y=df_results.valor_predito_reg_linear,\n",
    "                         mode='lines',\n",
    "                         line = dict(color = '#FEBFB3'),\n",
    "                         name='Valor Predito Regressão Linear'))\n",
    "\n",
    "# Plota a figura\n",
    "fig.show()"
   ]
  },
  {
   "cell_type": "markdown",
   "metadata": {
    "colab_type": "text",
    "id": "yhHrta_etlaE"
   },
   "source": [
    "##### Arvore de decisão\n",
    "\n",
    "*   `Algoritmo de aprendizado supervisionado`\n",
    "*   `Explicabilidade do Modelo`\n",
    "*   `Simples`\n"
   ]
  },
  {
   "cell_type": "code",
   "execution_count": 0,
   "metadata": {
    "colab": {},
    "colab_type": "code",
    "id": "s6AMt-S1tklE"
   },
   "outputs": [],
   "source": [
    "# importa o pacote DecisionTreeRegressor\n",
    "from sklearn.tree import DecisionTreeRegressor"
   ]
  },
  {
   "cell_type": "code",
   "execution_count": 0,
   "metadata": {
    "colab": {},
    "colab_type": "code",
    "id": "9GWqPqMatkiv"
   },
   "outputs": [],
   "source": [
    "# cria um objeto do tipo DecisionTreeRegressor\n",
    "regressor = DecisionTreeRegressor()"
   ]
  },
  {
   "cell_type": "code",
   "execution_count": 0,
   "metadata": {
    "colab": {},
    "colab_type": "code",
    "id": "aesYvbgetkgX"
   },
   "outputs": [],
   "source": [
    "# treina o algoritmo\n",
    "regressor.fit(X_train, y_train)"
   ]
  },
  {
   "cell_type": "markdown",
   "metadata": {
    "colab_type": "text",
    "id": "WHDUHZgHyztm"
   },
   "source": [
    "Avaliando o modelo de Árvore de Decisão"
   ]
  },
  {
   "cell_type": "code",
   "execution_count": 0,
   "metadata": {
    "colab": {},
    "colab_type": "code",
    "id": "3rnUwS6Vtkdw"
   },
   "outputs": [],
   "source": [
    "# fazendo as previsões\n",
    "y_pred = regressor.predict(X_test)"
   ]
  },
  {
   "cell_type": "code",
   "execution_count": 0,
   "metadata": {
    "colab": {},
    "colab_type": "code",
    "id": "WPIrhQh_Lt4i"
   },
   "outputs": [],
   "source": [
    "# Adicionando o valor do modelo no dataframe df_results\n",
    "df_results['valor_predito_arvore'] = y_pred"
   ]
  },
  {
   "cell_type": "code",
   "execution_count": 0,
   "metadata": {
    "colab": {},
    "colab_type": "code",
    "id": "z3bMNJK0LASe"
   },
   "outputs": [],
   "source": [
    "# visualiza o dataframe df_results\n",
    "df_results.head(10)"
   ]
  },
  {
   "cell_type": "code",
   "execution_count": 0,
   "metadata": {
    "colab": {},
    "colab_type": "code",
    "id": "PV-RAtLPN12A"
   },
   "outputs": [],
   "source": [
    "import plotly.graph_objects as go\n",
    "\n",
    "# cria uma figura\n",
    "fig = go.Figure()\n",
    "\n",
    "# Linha com os dados de teste\n",
    "fig.add_trace(go.Scatter(x=df_results.index,\n",
    "                         y=df_results.valor_real,\n",
    "                         mode='lines+markers',\n",
    "                         name='Valor Real'))\n",
    "\n",
    "# Linha com os dados de teste\n",
    "fig.add_trace(go.Scatter(x=df_results.index,\n",
    "                         y=df_results.valor_predito_baseline,\n",
    "                         mode='lines+markers',\n",
    "                         name='Valor Predito Baseline'))\n",
    "\n",
    "\n",
    "# Linha com os dados de teste\n",
    "fig.add_trace(go.Scatter(x=df_results.index,\n",
    "                         y=df_results.valor_predito_reg_linear,\n",
    "                         mode='lines+markers',\n",
    "                         name='Valor Predito Reg Liner'))\n",
    "\n",
    "# Linha com os dados preditos\n",
    "fig.add_trace(go.Scatter(x=df_results.index,\n",
    "                         y=df_results.valor_predito_arvore,\n",
    "                         mode='lines+markers',\n",
    "                         name='Valor Predito Arvore'))\n",
    "# Plota a figura\n",
    "fig.show()"
   ]
  },
  {
   "cell_type": "markdown",
   "metadata": {
    "colab_type": "text",
    "id": "exqvETJrM0BB"
   },
   "source": [
    "Avaliação do Modelo"
   ]
  },
  {
   "cell_type": "code",
   "execution_count": 0,
   "metadata": {
    "colab": {},
    "colab_type": "code",
    "id": "VpR1FT389JN_"
   },
   "outputs": [],
   "source": [
    "# calcula a métrica rmse\n",
    "rmse = (np.sqrt(mean_squared_error(y_test, y_pred)))"
   ]
  },
  {
   "cell_type": "code",
   "execution_count": 0,
   "metadata": {
    "colab": {},
    "colab_type": "code",
    "id": "cEBz7JpJyYcm"
   },
   "outputs": [],
   "source": [
    "# imprime a performance do modelo\n",
    "print ('Performance do modelo avaliado com os dados de teste:')\n",
    "print('\\nRMSE é: {} '.format(rmse))"
   ]
  },
  {
   "cell_type": "markdown",
   "metadata": {
    "colab_type": "text",
    "id": "IPf53dk8cQ4A"
   },
   "source": [
    "#### Random Forest\n",
    "\n",
    "- `Método Ensemble`\n",
    "- `Mais robustez para os modelos`"
   ]
  },
  {
   "cell_type": "code",
   "execution_count": 0,
   "metadata": {
    "colab": {},
    "colab_type": "code",
    "id": "dXpfe5pfWcxs"
   },
   "outputs": [],
   "source": [
    "# Importa o método RandomForestRegressor\n",
    "from sklearn.ensemble import RandomForestRegressor"
   ]
  },
  {
   "cell_type": "code",
   "execution_count": 0,
   "metadata": {
    "colab": {},
    "colab_type": "code",
    "id": "G-TcDYH6WcqX"
   },
   "outputs": [],
   "source": [
    "# cria o objeto rf_regressor\n",
    "rf_regressor = RandomForestRegressor()"
   ]
  },
  {
   "cell_type": "code",
   "execution_count": 0,
   "metadata": {
    "colab": {},
    "colab_type": "code",
    "id": "PXwdpDXdWcm5"
   },
   "outputs": [],
   "source": [
    "# treina o algoritmo\n",
    "rf_regressor.fit(X_train, y_train)"
   ]
  },
  {
   "cell_type": "code",
   "execution_count": 0,
   "metadata": {
    "colab": {},
    "colab_type": "code",
    "id": "YJp4BOStc5bS"
   },
   "outputs": [],
   "source": [
    "# avaliação do modelo nos dados de teste\n",
    "y_pred = rf_regressor.predict(X_test)"
   ]
  },
  {
   "cell_type": "code",
   "execution_count": 0,
   "metadata": {
    "colab": {},
    "colab_type": "code",
    "id": "2jH8pO-PdD3I"
   },
   "outputs": [],
   "source": [
    "# adiciona os resultados no dataframe df_results\n",
    "df_results['valor_predito_random_forest'] = rf_regressor.predict(X_test)"
   ]
  },
  {
   "cell_type": "code",
   "execution_count": 0,
   "metadata": {
    "colab": {},
    "colab_type": "code",
    "id": "WLxMyfruc5UO"
   },
   "outputs": [],
   "source": [
    "# calcula a métrica rmse\n",
    "rmse = (np.sqrt(mean_squared_error(y_test, y_pred)))"
   ]
  },
  {
   "cell_type": "code",
   "execution_count": 0,
   "metadata": {
    "colab": {},
    "colab_type": "code",
    "id": "V7Yt6UAxc5MQ"
   },
   "outputs": [],
   "source": [
    "# imprime a performance do modelo\n",
    "print ('Performance do modelo avaliado com os dados de teste:')\n",
    "print('\\nRMSE é: {} '.format(rmse))"
   ]
  },
  {
   "cell_type": "code",
   "execution_count": 0,
   "metadata": {
    "colab": {},
    "colab_type": "code",
    "id": "xKy2c8eidpdW"
   },
   "outputs": [],
   "source": [
    "# plota os resultados dos modelos e o valor real.\n",
    "import plotly.graph_objects as go\n",
    "\n",
    "# Create traces\n",
    "fig = go.Figure()\n",
    "\n",
    "# Linha com os dados de teste\n",
    "fig.add_trace(go.Scatter(x=df_results.index,\n",
    "                         y=df_results.valor_real,\n",
    "                         mode='markers',\n",
    "                         name='Valor Real'))\n",
    "\n",
    "# Linha com os dados da baseline\n",
    "fig.add_trace(go.Scatter(x=df_results.index,\n",
    "                         y=df_results.valor_predito_baseline,\n",
    "                         mode='lines+markers',\n",
    "                         line = dict(color = '#FF00FF'),\n",
    "                         name='Valor da Baseline'))\n",
    "\n",
    "# Linha com os dados preditos pela arvore\n",
    "fig.add_trace(go.Scatter(x=df_results.index,\n",
    "                         y=df_results.valor_predito_arvore,\n",
    "                         mode='lines',\n",
    "                         line = dict(color = '#B2FF66'),\n",
    "                         name='Valor Predito Árvore'))\n",
    "\n",
    "# Linha com os dados preditos pela regressão linear\n",
    "fig.add_trace(go.Scatter(x=df_results.index,\n",
    "                         y=df_results.valor_predito_reg_linear,\n",
    "                         mode='lines',\n",
    "                         line = dict(color = '#17BECF'),\n",
    "                         name='Valor Predito Regressão Linear'))\n",
    "\n",
    "\n",
    "# Linha com os dados preditos pela Random Forest\n",
    "fig.add_trace(go.Scatter(x=df_results.index,\n",
    "                         y=df_results.valor_predito_random_forest,\n",
    "                         mode='lines',\n",
    "                         line = dict(color = '#7F7F7F'),\n",
    "                         name='Valor Predito Random Forest'))\n",
    "\n",
    "# Plota a figura\n",
    "fig.show()"
   ]
  },
  {
   "cell_type": "markdown",
   "metadata": {
    "colab_type": "text",
    "id": "udB7k-TMe9tj"
   },
   "source": [
    "### Tunning do Algoritmo de Machine Learning"
   ]
  },
  {
   "cell_type": "markdown",
   "metadata": {
    "colab_type": "text",
    "id": "-ivExBIzzrmX"
   },
   "source": [
    "**Parâmetros da Random Forest**\n",
    "\n",
    "- `O parâmetro n_estimators define a quantidade de árvores que serão usadas para criação dos modelos. Quanto maior o número de árvores, maior será o número de modelos no ensemble.`\n",
    "\n",
    "- `O parâmtro max_deph define a profundidade da árvore, quanto mais profunda a árvore, mais especializado nos dados de treino o nosso modelo estará.`\n",
    "\n",
    "- `O parâmetro max_features define a quantidade máxima de nós que serão usados para separar os níveis folha da árvore`"
   ]
  },
  {
   "cell_type": "markdown",
   "metadata": {
    "colab_type": "text",
    "id": "Kt1_TcBfWn31"
   },
   "source": [
    "Deploy da Aplicação"
   ]
  },
  {
   "cell_type": "code",
   "execution_count": 0,
   "metadata": {
    "colab": {},
    "colab_type": "code",
    "id": "o_vwA3soYjYq"
   },
   "outputs": [],
   "source": [
    "X['MEDV'] = y"
   ]
  },
  {
   "cell_type": "code",
   "execution_count": 0,
   "metadata": {
    "colab": {},
    "colab_type": "code",
    "id": "x5-qVIdOZwdt"
   },
   "outputs": [],
   "source": [
    "X.head()"
   ]
  },
  {
   "cell_type": "code",
   "execution_count": 0,
   "metadata": {
    "colab": {},
    "colab_type": "code",
    "id": "vbPO7woOa7N0"
   },
   "outputs": [],
   "source": [
    "X.to_csv('data.csv', index=False)"
   ]
  }
 ],
 "metadata": {
  "anaconda-cloud": {},
  "colab": {
   "collapsed_sections": [],
   "name": "aula03.ipynb",
   "provenance": []
  },
  "kernelspec": {
   "display_name": "Python 3",
   "language": "python",
   "name": "python3"
  },
  "language_info": {
   "codemirror_mode": {
    "name": "ipython",
    "version": 3
   },
   "file_extension": ".py",
   "mimetype": "text/x-python",
   "name": "python",
   "nbconvert_exporter": "python",
   "pygments_lexer": "ipython3",
   "version": "3.6.5"
  }
 },
 "nbformat": 4,
 "nbformat_minor": 1
}
